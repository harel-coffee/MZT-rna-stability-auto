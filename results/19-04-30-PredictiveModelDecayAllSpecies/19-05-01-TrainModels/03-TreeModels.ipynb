{
 "cells": [
  {
   "cell_type": "code",
   "execution_count": 1,
   "metadata": {},
   "outputs": [],
   "source": [
    "import numpy as np\n",
    "import pandas as pd\n",
    "from scipy.stats import randint as sp_randint\n",
    "\n",
    "# sklearn import\n",
    "from sklearn.pipeline import Pipeline\n",
    "from sklearn.tree import DecisionTreeRegressor\n",
    "from sklearn.ensemble import RandomForestRegressor, AdaBoostRegressor\n",
    "from sklearn.model_selection import RandomizedSearchCV\n",
    "from sklearn.metrics import make_scorer, r2_score\n",
    "# my module imports\n",
    "from optimalcodon.projects.rnastability.dataprocessing import get_data, general_preprocesing_pipeline\n",
    "from optimalcodon.projects.rnastability import modelevaluation"
   ]
  },
  {
   "cell_type": "code",
   "execution_count": 2,
   "metadata": {},
   "outputs": [],
   "source": [
    "(train_x, train_y), (test_x, test_y) = get_data(\"../19-04-30-EDA/results_data/\")"
   ]
  },
  {
   "cell_type": "code",
   "execution_count": 3,
   "metadata": {},
   "outputs": [],
   "source": [
    "# pre-process Pipeline\n",
    "\n",
    "preprocessing = general_preprocesing_pipeline(train_x)\n",
    "\n",
    "preprocessing.fit(train_x)\n",
    "train_x_transformed = preprocessing.transform(train_x)"
   ]
  },
  {
   "cell_type": "markdown",
   "metadata": {},
   "source": [
    "***\n",
    "## Decision Tree Regressor"
   ]
  },
  {
   "cell_type": "code",
   "execution_count": 4,
   "metadata": {},
   "outputs": [
    {
     "data": {
      "text/plain": [
       "array([10, 11, 12, 13, 14, 15, 16, 17, 18, 19, 20, 21, 22, 23, 24])"
      ]
     },
     "execution_count": 4,
     "metadata": {},
     "output_type": "execute_result"
    }
   ],
   "source": [
    "np.arange(10, 25)"
   ]
  },
  {
   "cell_type": "code",
   "execution_count": 5,
   "metadata": {},
   "outputs": [
    {
     "name": "stdout",
     "output_type": "stream",
     "text": [
      "Fitting 3 folds for each of 150 candidates, totalling 450 fits\n"
     ]
    },
    {
     "name": "stderr",
     "output_type": "stream",
     "text": [
      "[Parallel(n_jobs=15)]: Using backend LokyBackend with 15 concurrent workers.\n",
      "[Parallel(n_jobs=15)]: Done   2 tasks      | elapsed:   21.7s\n",
      "[Parallel(n_jobs=15)]: Done  11 tasks      | elapsed:   22.3s\n",
      "[Parallel(n_jobs=15)]: Done  20 tasks      | elapsed:   25.6s\n",
      "[Parallel(n_jobs=15)]: Done  31 tasks      | elapsed:   28.7s\n",
      "[Parallel(n_jobs=15)]: Done  42 tasks      | elapsed:   30.2s\n",
      "[Parallel(n_jobs=15)]: Done  55 tasks      | elapsed:   33.5s\n",
      "[Parallel(n_jobs=15)]: Done  68 tasks      | elapsed:   37.4s\n",
      "[Parallel(n_jobs=15)]: Done  83 tasks      | elapsed:   40.9s\n",
      "[Parallel(n_jobs=15)]: Done  98 tasks      | elapsed:   45.1s\n",
      "[Parallel(n_jobs=15)]: Done 115 tasks      | elapsed:   49.0s\n",
      "[Parallel(n_jobs=15)]: Done 132 tasks      | elapsed:   53.3s\n",
      "[Parallel(n_jobs=15)]: Done 151 tasks      | elapsed:   59.6s\n",
      "[Parallel(n_jobs=15)]: Done 170 tasks      | elapsed:  1.1min\n",
      "[Parallel(n_jobs=15)]: Done 191 tasks      | elapsed:  1.2min\n",
      "[Parallel(n_jobs=15)]: Done 212 tasks      | elapsed:  1.3min\n",
      "[Parallel(n_jobs=15)]: Done 235 tasks      | elapsed:  1.4min\n",
      "[Parallel(n_jobs=15)]: Done 258 tasks      | elapsed:  1.5min\n",
      "[Parallel(n_jobs=15)]: Done 283 tasks      | elapsed:  1.6min\n",
      "[Parallel(n_jobs=15)]: Done 308 tasks      | elapsed:  1.7min\n",
      "[Parallel(n_jobs=15)]: Done 335 tasks      | elapsed:  1.8min\n",
      "[Parallel(n_jobs=15)]: Done 362 tasks      | elapsed:  2.0min\n",
      "[Parallel(n_jobs=15)]: Done 391 tasks      | elapsed:  2.1min\n",
      "[Parallel(n_jobs=15)]: Done 420 tasks      | elapsed:  2.2min\n",
      "[Parallel(n_jobs=15)]: Done 450 out of 450 | elapsed:  2.3min finished\n"
     ]
    },
    {
     "name": "stdout",
     "output_type": "stream",
     "text": [
      "Best Score R2 =  0.10930178952963861\n",
      "Best Parameters:  {'max_depth': 14, 'max_features': None, 'min_samples_split': 0.007444444444444444, 'splitter': 'best'}\n"
     ]
    }
   ],
   "source": [
    "tree_reg = DecisionTreeRegressor()\n",
    "\n",
    "tree_grid = {\n",
    "    'min_samples_split': np.linspace(0.001, .03, 10),\n",
    "    'max_features': [None],\n",
    "    'splitter': ['best'],\n",
    "    'max_depth': np.arange(10, 25)\n",
    "}\n",
    "\n",
    "tree_search = modelevaluation.gridsearch(tree_reg, tree_grid, train_x_transformed, train_y, cores=15)"
   ]
  },
  {
   "cell_type": "markdown",
   "metadata": {},
   "source": [
    "I will use the best parameter of the decision tree to train a random forest.\n",
    "\n",
    "***\n",
    "\n",
    "## Random Forest"
   ]
  },
  {
   "cell_type": "code",
   "execution_count": 6,
   "metadata": {},
   "outputs": [
    {
     "name": "stdout",
     "output_type": "stream",
     "text": [
      "Fitting 3 folds for each of 6 candidates, totalling 18 fits\n"
     ]
    },
    {
     "name": "stderr",
     "output_type": "stream",
     "text": [
      "[Parallel(n_jobs=3)]: Using backend LokyBackend with 3 concurrent workers.\n",
      "/home/smedina/anaconda3/lib/python3.6/site-packages/sklearn/externals/joblib/externals/loky/process_executor.py:706: UserWarning: A worker stopped while some jobs were given to the executor. This can be caused by a too short worker timeout or by a memory leak.\n",
      "  \"timeout or by a memory leak.\", UserWarning\n",
      "[Parallel(n_jobs=3)]: Done   2 tasks      | elapsed: 12.0min\n",
      "[Parallel(n_jobs=3)]: Done   7 tasks      | elapsed: 36.2min\n",
      "[Parallel(n_jobs=3)]: Done  12 tasks      | elapsed: 49.0min\n",
      "[Parallel(n_jobs=3)]: Done  15 out of  18 | elapsed: 64.0min remaining: 12.8min\n",
      "[Parallel(n_jobs=3)]: Done  18 out of  18 | elapsed: 77.1min finished\n"
     ]
    },
    {
     "name": "stdout",
     "output_type": "stream",
     "text": [
      "Best Score R2 =  0.2929436624403286\n",
      "Best Parameters:  {'n_estimators': 1950}\n"
     ]
    }
   ],
   "source": [
    "rf_reg = RandomForestRegressor(max_depth=14, n_jobs=8)\n",
    "\n",
    "rf_grid = {\n",
    "    'n_estimators': np.arange(1700, 2000, 50)\n",
    "}\n",
    "\n",
    "rf_search = modelevaluation.gridsearch(rf_reg, rf_grid, train_x_transformed, train_y, cores=3)"
   ]
  },
  {
   "cell_type": "code",
   "execution_count": 7,
   "metadata": {},
   "outputs": [
    {
     "name": "stdout",
     "output_type": "stream",
     "text": [
      "generating predictions for model: rf\n"
     ]
    }
   ],
   "source": [
    "modelevaluation.eval_models({'rf': rf_search.best_estimator_}, preprocessing, test_x, test_y).to_csv(\"res3.csv\")"
   ]
  },
  {
   "cell_type": "markdown",
   "metadata": {},
   "source": [
    "***\n",
    "\n",
    "## ADA BOOST"
   ]
  },
  {
   "cell_type": "code",
   "execution_count": 8,
   "metadata": {},
   "outputs": [
    {
     "name": "stdout",
     "output_type": "stream",
     "text": [
      "Fitting 3 folds for each of 3 candidates, totalling 9 fits\n"
     ]
    },
    {
     "name": "stderr",
     "output_type": "stream",
     "text": [
      "[Parallel(n_jobs=17)]: Using backend LokyBackend with 17 concurrent workers.\n",
      "[Parallel(n_jobs=17)]: Done   2 out of   9 | elapsed:   20.2s remaining:  1.2min\n",
      "[Parallel(n_jobs=17)]: Done   3 out of   9 | elapsed:   20.6s remaining:   41.1s\n",
      "[Parallel(n_jobs=17)]: Done   4 out of   9 | elapsed:   38.7s remaining:   48.4s\n",
      "[Parallel(n_jobs=17)]: Done   5 out of   9 | elapsed:   38.7s remaining:   31.0s\n",
      "[Parallel(n_jobs=17)]: Done   6 out of   9 | elapsed:   39.0s remaining:   19.5s\n",
      "[Parallel(n_jobs=17)]: Done   7 out of   9 | elapsed:   40.0s remaining:   11.4s\n",
      "[Parallel(n_jobs=17)]: Done   9 out of   9 | elapsed:   54.2s remaining:    0.0s\n",
      "[Parallel(n_jobs=17)]: Done   9 out of   9 | elapsed:   54.2s finished\n"
     ]
    },
    {
     "name": "stdout",
     "output_type": "stream",
     "text": [
      "Best Score R2 =  0.06067941990586238\n",
      "Best Parameters:  {'n_estimators': 10}\n"
     ]
    }
   ],
   "source": [
    "ada_reg = AdaBoostRegressor(DecisionTreeRegressor(max_depth=4))\n",
    "ada_grid = {\n",
    "    'n_estimators': np.arange(10, 300, 100)\n",
    "}\n",
    "ada_search = modelevaluation.gridsearch(ada_reg, ada_grid, train_x_transformed, train_y, cores=17)"
   ]
  },
  {
   "cell_type": "code",
   "execution_count": 9,
   "metadata": {},
   "outputs": [
    {
     "name": "stdout",
     "output_type": "stream",
     "text": [
      "generating predictions for model: decision tree\n",
      "generating predictions for model: AdaBoost\n",
      "generating predictions for model: random forest\n"
     ]
    }
   ],
   "source": [
    "models = {\n",
    "    'decision tree': tree_search.best_estimator_,\n",
    "    'AdaBoost': ada_search.best_estimator_,\n",
    "    'random forest': rf_search.best_estimator_.set_params(n_jobs=2) # set params for cross validation\n",
    "}\n",
    "modelevaluation.eval_models(models, preprocessing, test_x, test_y).to_csv(\"results_data/val_non-Treemodels.csv\")"
   ]
  },
  {
   "cell_type": "code",
   "execution_count": 10,
   "metadata": {},
   "outputs": [
    {
     "name": "stdout",
     "output_type": "stream",
     "text": [
      "cv for model: decision tree\n",
      "cv for model: AdaBoost\n",
      "cv for model: random forest\n"
     ]
    }
   ],
   "source": [
    "modelevaluation.crossvalidation(models, train_x_transformed, train_y).to_csv('results_data/cv_Tree-models.csv', index=False)"
   ]
  }
 ],
 "metadata": {
  "kernelspec": {
   "display_name": "Python 3",
   "language": "python",
   "name": "python3"
  },
  "language_info": {
   "codemirror_mode": {
    "name": "ipython",
    "version": 3
   },
   "file_extension": ".py",
   "mimetype": "text/x-python",
   "name": "python",
   "nbconvert_exporter": "python",
   "pygments_lexer": "ipython3",
   "version": "3.6.8"
  }
 },
 "nbformat": 4,
 "nbformat_minor": 2
}
