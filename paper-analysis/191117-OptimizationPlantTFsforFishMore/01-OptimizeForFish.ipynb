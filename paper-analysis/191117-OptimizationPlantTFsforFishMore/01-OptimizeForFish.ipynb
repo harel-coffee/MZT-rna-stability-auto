{
 "cells": [
  {
   "cell_type": "code",
   "execution_count": 5,
   "metadata": {},
   "outputs": [],
   "source": [
    "import pandas as pd\n",
    "from optimalcodon.projects.rnastability.optimization import protein_optimization"
   ]
  },
  {
   "cell_type": "code",
   "execution_count": 15,
   "metadata": {},
   "outputs": [],
   "source": [
    "mdl_path = \"../191005-EvaluateModelLearningCurve/results-data/final_model.joblib\"\n",
    "\n",
    "mdl_params = {'specie': 'fish',  # the specie: (fish, human, mouse, xenopus)\n",
    "              'cell_type': 'embryo mzt',  # cell type, this depends on the specie\n",
    "              'datatype': 'aamanitin polya'}  # data type, depends on speci\n",
    "n_iterations = 5\n",
    "\n",
    "def run_optimization(sequence):\n",
    "    \"\"\"helper function to run the optimization\"\"\"\n",
    "    gfp_path = protein_optimization(\n",
    "        protein_sequence=sequence, # Input user sequence\n",
    "        mdl_path=mdl_path, # path to the model file\n",
    "        mdl_args=mdl_params, # parameters for predictions\n",
    "        crossover_args={}, # parameters for genetic algorithm\n",
    "        niterations=n_iterations # number of iterations\n",
    "    )\n",
    "    \n",
    "    return gfp_path.sort_values('fitness', ascending=False).sequences.values[0]\n"
   ]
  },
  {
   "cell_type": "code",
   "execution_count": 27,
   "metadata": {},
   "outputs": [
    {
     "name": "stdout",
     "output_type": "stream",
     "text": [
      "iteration 1 of 5\n",
      "iteration 2 of 5\n",
      "iteration 3 of 5\n",
      "iteration 4 of 5\n",
      "iteration 5 of 5\n",
      "sequence optimized for fish | embryo mzt | aamanitin polya\n",
      "most optimal sequence found after 5 iterations: TODO\n",
      "saving search path ...\n"
     ]
    },
    {
     "data": {
      "text/plain": [
       "'ATGGATCAGTACTCATCCTCTCTCGTCGATACTTCATTAGATCTCACTATTGGCGTTACTCGTATGCGAGTTGAAGAAGATCCACCGACAAGTGCTTTGGTGGAGGAATTAAACCGAGTCAGCGCTGAGAACAAAAAGCTCTCGGAGATGCTAACTCTAATGTGTGACAACTACAACGTGTTGAGGAAGCAACTTATGGAATATGTTAACAAGTCCAACATAACTGAGCGTGATCAAATCTCCCCTCCCAAAAAGCGCAAATCCCCAGCCCGCGAGGACGCATTCAGCTGCGCAGTTATTGGCGGTGTGTCGGAGTCGAGCTCAACGGATCAAGATGAGTATTTGTGTAAGAAGCAGCGGGAAGAGACTGTCGTGAAGGAGAAAGTCTCAAGGGTCTATTACAAGACCGAAGCTTCTGACACTACCCTCGTTGTGAAGGATGGATATCAATGGAGGAAATATGGACAGAAAGTGACTCGCGACAATCCATCTCCAAGAGCTTACTTCAAATGTGCTTGTGCTCCAAGCTGTTCTGTCAAAAAGAAGGTTCAGAGAAGTGTTGAGGATCAGTCCGTGCTGGTTGCTACTTATGAAGGTGAACACAACCATCCAATGCCATCGCAGATCGATTCAAACAATGGCTTAAACCGCCACATCTCTCATGGTGGTTCAGCTTCAACACCCGTTGCAGCAAACAGAAGATCCAGCTTGACTGTGCCGGTGACTACCGTAGATATGATTGAATCTAAAAAAGTGACGAGCCCAACGTCAAGAATCGATTTTCCTCAAGTTCAGAAACTTTTGGTGGAGCAGATGGCCTCTTCCCTTACCAAAGATCCTAACTTTACAGCAGCTTTAGCAGCAGCTGTTACCGGAAAACTTTATCAACAGAATCATACCGAGAAATAG'"
      ]
     },
     "execution_count": 27,
     "metadata": {},
     "output_type": "execute_result"
    }
   ],
   "source": [
    "run_optimization(sequence=orf)"
   ]
  },
  {
   "cell_type": "code",
   "execution_count": 36,
   "metadata": {},
   "outputs": [],
   "source": [
    "tfs_seqs = pd.read_table(\"plant_tfs.tab\", names=['id', 'original_seq'])"
   ]
  },
  {
   "cell_type": "code",
   "execution_count": 38,
   "metadata": {},
   "outputs": [],
   "source": [
    "tfs_seqs['original_seq'] = tfs_seqs.original_seq.str.upper()"
   ]
  },
  {
   "cell_type": "code",
   "execution_count": 40,
   "metadata": {},
   "outputs": [
    {
     "name": "stdout",
     "output_type": "stream",
     "text": [
      "iteration 1 of 5\n",
      "iteration 2 of 5\n",
      "iteration 3 of 5\n",
      "iteration 4 of 5\n",
      "iteration 5 of 5\n",
      "sequence optimized for fish | embryo mzt | aamanitin polya\n",
      "most optimal sequence found after 5 iterations: TODO\n",
      "saving search path ...\n",
      "iteration 1 of 5\n",
      "iteration 2 of 5\n",
      "iteration 3 of 5\n",
      "iteration 4 of 5\n",
      "iteration 5 of 5\n",
      "sequence optimized for fish | embryo mzt | aamanitin polya\n",
      "most optimal sequence found after 5 iterations: TODO\n",
      "saving search path ...\n",
      "iteration 1 of 5\n",
      "iteration 2 of 5\n",
      "iteration 3 of 5\n",
      "iteration 4 of 5\n",
      "iteration 5 of 5\n",
      "sequence optimized for fish | embryo mzt | aamanitin polya\n",
      "most optimal sequence found after 5 iterations: TODO\n",
      "saving search path ...\n",
      "iteration 1 of 5\n",
      "iteration 2 of 5\n",
      "iteration 3 of 5\n",
      "iteration 4 of 5\n",
      "iteration 5 of 5\n",
      "sequence optimized for fish | embryo mzt | aamanitin polya\n",
      "most optimal sequence found after 5 iterations: TODO\n",
      "saving search path ...\n",
      "iteration 1 of 5\n",
      "iteration 2 of 5\n",
      "iteration 3 of 5\n",
      "iteration 4 of 5\n",
      "iteration 5 of 5\n",
      "sequence optimized for fish | embryo mzt | aamanitin polya\n",
      "most optimal sequence found after 5 iterations: TODO\n",
      "saving search path ...\n",
      "iteration 1 of 5\n",
      "iteration 2 of 5\n",
      "iteration 3 of 5\n",
      "iteration 4 of 5\n",
      "iteration 5 of 5\n",
      "sequence optimized for fish | embryo mzt | aamanitin polya\n",
      "most optimal sequence found after 5 iterations: TODO\n",
      "saving search path ...\n",
      "iteration 1 of 5\n",
      "iteration 2 of 5\n",
      "iteration 3 of 5\n",
      "iteration 4 of 5\n",
      "iteration 5 of 5\n",
      "sequence optimized for fish | embryo mzt | aamanitin polya\n",
      "most optimal sequence found after 5 iterations: TODO\n",
      "saving search path ...\n",
      "iteration 1 of 5\n",
      "iteration 2 of 5\n",
      "iteration 3 of 5\n",
      "iteration 4 of 5\n",
      "iteration 5 of 5\n",
      "sequence optimized for fish | embryo mzt | aamanitin polya\n",
      "most optimal sequence found after 5 iterations: TODO\n",
      "saving search path ...\n",
      "iteration 1 of 5\n",
      "iteration 2 of 5\n",
      "iteration 3 of 5\n",
      "iteration 4 of 5\n",
      "iteration 5 of 5\n",
      "sequence optimized for fish | embryo mzt | aamanitin polya\n",
      "most optimal sequence found after 5 iterations: TODO\n",
      "saving search path ...\n",
      "iteration 1 of 5\n",
      "iteration 2 of 5\n",
      "iteration 3 of 5\n",
      "iteration 4 of 5\n",
      "iteration 5 of 5\n",
      "sequence optimized for fish | embryo mzt | aamanitin polya\n",
      "most optimal sequence found after 5 iterations: TODO\n",
      "saving search path ...\n",
      "iteration 1 of 5\n",
      "iteration 2 of 5\n",
      "iteration 3 of 5\n",
      "iteration 4 of 5\n",
      "iteration 5 of 5\n",
      "sequence optimized for fish | embryo mzt | aamanitin polya\n",
      "most optimal sequence found after 5 iterations: TODO\n",
      "saving search path ...\n",
      "iteration 1 of 5\n",
      "iteration 2 of 5\n",
      "iteration 3 of 5\n",
      "iteration 4 of 5\n",
      "iteration 5 of 5\n",
      "sequence optimized for fish | embryo mzt | aamanitin polya\n",
      "most optimal sequence found after 5 iterations: TODO\n",
      "saving search path ...\n"
     ]
    }
   ],
   "source": [
    "tfs_seqs['optimized_for_fish'] = tfs_seqs.original_seq.map(run_optimization)"
   ]
  },
  {
   "cell_type": "code",
   "execution_count": null,
   "metadata": {},
   "outputs": [],
   "source": []
  }
 ],
 "metadata": {
  "kernelspec": {
   "display_name": "Python 3",
   "language": "python",
   "name": "python3"
  },
  "language_info": {
   "codemirror_mode": {
    "name": "ipython",
    "version": 3
   },
   "file_extension": ".py",
   "mimetype": "text/x-python",
   "name": "python",
   "nbconvert_exporter": "python",
   "pygments_lexer": "ipython3",
   "version": "3.6.8"
  }
 },
 "nbformat": 4,
 "nbformat_minor": 2
}
