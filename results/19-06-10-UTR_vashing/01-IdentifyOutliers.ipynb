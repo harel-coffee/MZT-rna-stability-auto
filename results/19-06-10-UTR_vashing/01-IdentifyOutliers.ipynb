{
 "cells": [
  {
   "cell_type": "markdown",
   "metadata": {},
   "source": [
    "## Identify outliers\n",
    "\n",
    "Which genes can not be predicted?"
   ]
  },
  {
   "cell_type": "code",
   "execution_count": 12,
   "metadata": {
    "collapsed": true
   },
   "outputs": [],
   "source": [
    "import os\n",
    "import numpy as np\n",
    "import pandas as pd\n",
    "\n",
    "import warnings\n",
    "warnings.filterwarnings('ignore')\n",
    "\n",
    "# sklearn imports\n",
    "from sklearn.model_selection import train_test_split\n",
    "from sklearn.svm import SVR\n",
    "from sklearn.pipeline import Pipeline\n",
    "from sklearn.preprocessing import StandardScaler\n",
    "from sklearn.model_selection import GridSearchCV"
   ]
  },
  {
   "cell_type": "code",
   "execution_count": 13,
   "metadata": {},
   "outputs": [
    {
     "data": {
      "text/html": [
       "<div>\n",
       "<table border=\"1\" class=\"dataframe\">\n",
       "  <thead>\n",
       "    <tr style=\"text-align: right;\">\n",
       "      <th></th>\n",
       "      <th>Gene_ID</th>\n",
       "      <th>time</th>\n",
       "      <th>is_maternal</th>\n",
       "      <th>ARE</th>\n",
       "      <th>MiR_4302nd6mer</th>\n",
       "      <th>utr_log</th>\n",
       "      <th>m6A</th>\n",
       "      <th>MiR430</th>\n",
       "      <th>PLS1</th>\n",
       "      <th>PLS2</th>\n",
       "      <th>wt_polya</th>\n",
       "      <th>wt_ribo</th>\n",
       "    </tr>\n",
       "  </thead>\n",
       "  <tbody>\n",
       "    <tr>\n",
       "      <th>0</th>\n",
       "      <td>ENSDARG00000000018</td>\n",
       "      <td>6</td>\n",
       "      <td>True</td>\n",
       "      <td>2</td>\n",
       "      <td>1</td>\n",
       "      <td>7.205635</td>\n",
       "      <td>0.0</td>\n",
       "      <td>0</td>\n",
       "      <td>0.866097</td>\n",
       "      <td>1.623199</td>\n",
       "      <td>-0.610867</td>\n",
       "      <td>-1.255142</td>\n",
       "    </tr>\n",
       "    <tr>\n",
       "      <th>1</th>\n",
       "      <td>ENSDARG00000000019</td>\n",
       "      <td>6</td>\n",
       "      <td>True</td>\n",
       "      <td>2</td>\n",
       "      <td>1</td>\n",
       "      <td>7.643962</td>\n",
       "      <td>0.0</td>\n",
       "      <td>2</td>\n",
       "      <td>1.076742</td>\n",
       "      <td>0.877583</td>\n",
       "      <td>-1.253481</td>\n",
       "      <td>-0.691014</td>\n",
       "    </tr>\n",
       "    <tr>\n",
       "      <th>2</th>\n",
       "      <td>ENSDARG00000000068</td>\n",
       "      <td>6</td>\n",
       "      <td>True</td>\n",
       "      <td>1</td>\n",
       "      <td>0</td>\n",
       "      <td>6.608001</td>\n",
       "      <td>0.0</td>\n",
       "      <td>0</td>\n",
       "      <td>2.158753</td>\n",
       "      <td>1.800105</td>\n",
       "      <td>-0.560254</td>\n",
       "      <td>-0.715011</td>\n",
       "    </tr>\n",
       "    <tr>\n",
       "      <th>3</th>\n",
       "      <td>ENSDARG00000000086</td>\n",
       "      <td>6</td>\n",
       "      <td>True</td>\n",
       "      <td>1</td>\n",
       "      <td>0</td>\n",
       "      <td>5.720312</td>\n",
       "      <td>0.0</td>\n",
       "      <td>0</td>\n",
       "      <td>1.392857</td>\n",
       "      <td>0.715777</td>\n",
       "      <td>-1.437790</td>\n",
       "      <td>-0.495296</td>\n",
       "    </tr>\n",
       "    <tr>\n",
       "      <th>4</th>\n",
       "      <td>ENSDARG00000000103</td>\n",
       "      <td>6</td>\n",
       "      <td>True</td>\n",
       "      <td>1</td>\n",
       "      <td>0</td>\n",
       "      <td>7.144407</td>\n",
       "      <td>0.0</td>\n",
       "      <td>0</td>\n",
       "      <td>2.140356</td>\n",
       "      <td>0.917946</td>\n",
       "      <td>0.126062</td>\n",
       "      <td>-0.299922</td>\n",
       "    </tr>\n",
       "  </tbody>\n",
       "</table>\n",
       "</div>"
      ],
      "text/plain": [
       "              Gene_ID  time is_maternal  ARE  MiR_4302nd6mer   utr_log  m6A  \\\n",
       "0  ENSDARG00000000018     6        True    2               1  7.205635  0.0   \n",
       "1  ENSDARG00000000019     6        True    2               1  7.643962  0.0   \n",
       "2  ENSDARG00000000068     6        True    1               0  6.608001  0.0   \n",
       "3  ENSDARG00000000086     6        True    1               0  5.720312  0.0   \n",
       "4  ENSDARG00000000103     6        True    1               0  7.144407  0.0   \n",
       "\n",
       "   MiR430      PLS1      PLS2  wt_polya   wt_ribo  \n",
       "0       0  0.866097  1.623199 -0.610867 -1.255142  \n",
       "1       2  1.076742  0.877583 -1.253481 -0.691014  \n",
       "2       0  2.158753  1.800105 -0.560254 -0.715011  \n",
       "3       0  1.392857  0.715777 -1.437790 -0.495296  \n",
       "4       0  2.140356  0.917946  0.126062 -0.299922  "
      ]
     },
     "execution_count": 13,
     "metadata": {},
     "output_type": "execute_result"
    }
   ],
   "source": [
    "data = pd.read_csv(\"results_data/mdl_data.csv\")\n",
    "# tidy the data\n",
    "data['m6A'] = data.m6A.astype(np.float)\n",
    "\n",
    "data.head()"
   ]
  },
  {
   "cell_type": "markdown",
   "metadata": {},
   "source": [
    "## Initial Split (Test Data)"
   ]
  },
  {
   "cell_type": "code",
   "execution_count": 14,
   "metadata": {},
   "outputs": [
    {
     "data": {
      "text/html": [
       "<div>\n",
       "<table border=\"1\" class=\"dataframe\">\n",
       "  <thead>\n",
       "    <tr style=\"text-align: right;\">\n",
       "      <th></th>\n",
       "      <th>m6A</th>\n",
       "      <th>MiR430</th>\n",
       "      <th>PLS1</th>\n",
       "      <th>PLS2</th>\n",
       "      <th>ARE</th>\n",
       "      <th>MiR_4302nd6mer</th>\n",
       "      <th>utr_log</th>\n",
       "    </tr>\n",
       "  </thead>\n",
       "  <tbody>\n",
       "    <tr>\n",
       "      <th>2527</th>\n",
       "      <td>0.0</td>\n",
       "      <td>0</td>\n",
       "      <td>1.790076</td>\n",
       "      <td>-1.191588</td>\n",
       "      <td>0</td>\n",
       "      <td>0</td>\n",
       "      <td>3.988984</td>\n",
       "    </tr>\n",
       "    <tr>\n",
       "      <th>2856</th>\n",
       "      <td>1.0</td>\n",
       "      <td>0</td>\n",
       "      <td>0.993364</td>\n",
       "      <td>0.268633</td>\n",
       "      <td>1</td>\n",
       "      <td>0</td>\n",
       "      <td>4.770685</td>\n",
       "    </tr>\n",
       "    <tr>\n",
       "      <th>2700</th>\n",
       "      <td>0.0</td>\n",
       "      <td>0</td>\n",
       "      <td>-0.839153</td>\n",
       "      <td>-2.207092</td>\n",
       "      <td>1</td>\n",
       "      <td>0</td>\n",
       "      <td>6.045005</td>\n",
       "    </tr>\n",
       "    <tr>\n",
       "      <th>149</th>\n",
       "      <td>0.0</td>\n",
       "      <td>0</td>\n",
       "      <td>-0.243841</td>\n",
       "      <td>0.614113</td>\n",
       "      <td>0</td>\n",
       "      <td>0</td>\n",
       "      <td>6.493754</td>\n",
       "    </tr>\n",
       "    <tr>\n",
       "      <th>3678</th>\n",
       "      <td>0.0</td>\n",
       "      <td>0</td>\n",
       "      <td>-1.870393</td>\n",
       "      <td>0.762896</td>\n",
       "      <td>0</td>\n",
       "      <td>0</td>\n",
       "      <td>5.590987</td>\n",
       "    </tr>\n",
       "  </tbody>\n",
       "</table>\n",
       "</div>"
      ],
      "text/plain": [
       "      m6A  MiR430      PLS1      PLS2  ARE  MiR_4302nd6mer   utr_log\n",
       "2527  0.0       0  1.790076 -1.191588    0               0  3.988984\n",
       "2856  1.0       0  0.993364  0.268633    1               0  4.770685\n",
       "2700  0.0       0 -0.839153 -2.207092    1               0  6.045005\n",
       "149   0.0       0 -0.243841  0.614113    0               0  6.493754\n",
       "3678  0.0       0 -1.870393  0.762896    0               0  5.590987"
      ]
     },
     "execution_count": 14,
     "metadata": {},
     "output_type": "execute_result"
    }
   ],
   "source": [
    "data_train, data_test = train_test_split(data, test_size=.10, random_state=42)\n",
    "predictor_vars = ['m6A', 'MiR430', 'PLS1', 'PLS2', 'ARE', 'MiR_4302nd6mer', 'utr_log']\n",
    "\n",
    "X_train = data_train[predictor_vars]\n",
    "X_test = data_train[predictor_vars]\n",
    "y_train_ribo = data_train.wt_ribo\n",
    "y_train_polya = data_train.wt_polya\n",
    "X_train.head()"
   ]
  },
  {
   "cell_type": "markdown",
   "metadata": {},
   "source": [
    "## Data Pre-processing\n",
    "\n",
    "I will only use centering and scaling. There are 6 features for this model:\n",
    "\n",
    "1. PLS1 (optimality)\n",
    "2. PLS2 (optimality)\n",
    "3. M6A (m6A target?)\n",
    "4. miR-430 (# 6-mer sites)"
   ]
  },
  {
   "cell_type": "markdown",
   "metadata": {},
   "source": [
    "## Tain SVM model\n",
    "\n",
    "For hyperparamter tunning I will use randomnized search."
   ]
  },
  {
   "cell_type": "code",
   "execution_count": 15,
   "metadata": {},
   "outputs": [
    {
     "name": "stdout",
     "output_type": "stream",
     "text": [
      "Fitting 10 folds for each of 35 candidates, totalling 350 fits\n"
     ]
    },
    {
     "name": "stderr",
     "output_type": "stream",
     "text": [
      "[Parallel(n_jobs=31)]: Done 138 tasks      | elapsed:   12.5s\n",
      "[Parallel(n_jobs=31)]: Done 350 out of 350 | elapsed:  4.0min finished\n"
     ]
    },
    {
     "data": {
      "text/plain": [
       "GridSearchCV(cv=10, error_score='raise',\n",
       "       estimator=Pipeline(steps=[('scaler', StandardScaler(copy=True, with_mean=True, with_std=True)), ('regressor', SVR(C=1.0, cache_size=200, coef0=0.0, degree=3, epsilon=0.1, gamma=0.1,\n",
       "  kernel='rbf', max_iter=-1, shrinking=True, tol=0.001, verbose=False))]),\n",
       "       fit_params={}, iid=True, n_jobs=31,\n",
       "       param_grid={'regressor__gamma': array([1.e-02, 1.e-01, 1.e+00, 1.e+01, 1.e+02]), 'regressor__C': [0.001, 0.01, 0.1, 1.0, 10.0, 100.0, 1000.0]},\n",
       "       pre_dispatch='2*n_jobs', refit=True, return_train_score=True,\n",
       "       scoring='r2', verbose=1)"
      ]
     },
     "execution_count": 15,
     "metadata": {},
     "output_type": "execute_result"
    }
   ],
   "source": [
    "regressor = Pipeline([\n",
    "    ('scaler', StandardScaler()),\n",
    "    ('regressor', SVR(kernel='rbf', gamma=0.1))\n",
    "]) \n",
    "\n",
    "grid = param_grid={\"regressor__C\": [0.001, 0.01, 0.1, 1e0, 1e1, 1e2, 1e3], \"regressor__gamma\": np.logspace(-2, 2, 5)}\n",
    "\n",
    "# train model in poly-A data\n",
    "svr_poly = GridSearchCV(regressor, param_grid=grid, scoring='r2', cv=10, verbose=1, n_jobs=31)\n",
    "svr_poly.fit(X_train, y_train_polya)"
   ]
  },
  {
   "cell_type": "code",
   "execution_count": 16,
   "metadata": {},
   "outputs": [
    {
     "name": "stdout",
     "output_type": "stream",
     "text": [
      "Fitting 10 folds for each of 35 candidates, totalling 350 fits\n"
     ]
    },
    {
     "name": "stderr",
     "output_type": "stream",
     "text": [
      "[Parallel(n_jobs=31)]: Done 138 tasks      | elapsed:   12.5s\n",
      "[Parallel(n_jobs=31)]: Done 350 out of 350 | elapsed:  4.2min finished\n"
     ]
    },
    {
     "data": {
      "text/plain": [
       "GridSearchCV(cv=10, error_score='raise',\n",
       "       estimator=Pipeline(steps=[('scaler', StandardScaler(copy=True, with_mean=True, with_std=True)), ('regressor', SVR(C=1.0, cache_size=200, coef0=0.0, degree=3, epsilon=0.1, gamma=0.1,\n",
       "  kernel='rbf', max_iter=-1, shrinking=True, tol=0.001, verbose=False))]),\n",
       "       fit_params={}, iid=True, n_jobs=31,\n",
       "       param_grid={'regressor__gamma': array([1.e-02, 1.e-01, 1.e+00, 1.e+01, 1.e+02]), 'regressor__C': [0.001, 0.01, 0.1, 1.0, 10.0, 100.0, 1000.0]},\n",
       "       pre_dispatch='2*n_jobs', refit=True, return_train_score=True,\n",
       "       scoring='r2', verbose=1)"
      ]
     },
     "execution_count": 16,
     "metadata": {},
     "output_type": "execute_result"
    }
   ],
   "source": [
    "# train model in ribo data\n",
    "svr_ribo = GridSearchCV(regressor, param_grid=grid, scoring='r2', cv=10, verbose=1, n_jobs=31)\n",
    "svr_ribo.fit(X_train, y_train_ribo)"
   ]
  },
  {
   "cell_type": "code",
   "execution_count": 18,
   "metadata": {},
   "outputs": [
    {
     "data": {
      "text/plain": [
       "0.17957718620126562"
      ]
     },
     "execution_count": 18,
     "metadata": {},
     "output_type": "execute_result"
    }
   ],
   "source": [
    "svr_ribo.best_score_"
   ]
  },
  {
   "cell_type": "code",
   "execution_count": 19,
   "metadata": {},
   "outputs": [
    {
     "data": {
      "text/plain": [
       "0.1978127463180188"
      ]
     },
     "execution_count": 19,
     "metadata": {},
     "output_type": "execute_result"
    }
   ],
   "source": [
    "svr_poly.best_score_"
   ]
  },
  {
   "cell_type": "markdown",
   "metadata": {},
   "source": [
    "## Generate Predictions"
   ]
  },
  {
   "cell_type": "code",
   "execution_count": 20,
   "metadata": {
    "collapsed": true
   },
   "outputs": [],
   "source": [
    "# test data\n",
    "\n",
    "data['predicitions_polyA'] = svr_poly.predict(data[predictor_vars])\n",
    "data['predictions_ribo'] = svr_ribo.predict(data[predictor_vars])"
   ]
  },
  {
   "cell_type": "code",
   "execution_count": 21,
   "metadata": {
    "collapsed": true
   },
   "outputs": [],
   "source": [
    "data.to_csv('results_data/predictions_results.csv', index=False)"
   ]
  },
  {
   "cell_type": "code",
   "execution_count": null,
   "metadata": {
    "collapsed": true
   },
   "outputs": [],
   "source": []
  }
 ],
 "metadata": {
  "kernelspec": {
   "display_name": "Python 2",
   "language": "python",
   "name": "python2"
  },
  "language_info": {
   "codemirror_mode": {
    "name": "ipython",
    "version": 2
   },
   "file_extension": ".py",
   "mimetype": "text/x-python",
   "name": "python",
   "nbconvert_exporter": "python",
   "pygments_lexer": "ipython2",
   "version": "2.7.5"
  }
 },
 "nbformat": 4,
 "nbformat_minor": 2
}
