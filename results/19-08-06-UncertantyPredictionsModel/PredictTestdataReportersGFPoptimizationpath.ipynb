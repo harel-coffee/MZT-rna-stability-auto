{
 "cells": [
  {
   "cell_type": "markdown",
   "metadata": {},
   "source": [
    "# Predictions with confidence interval"
   ]
  },
  {
   "cell_type": "code",
   "execution_count": 1,
   "metadata": {},
   "outputs": [],
   "source": [
    "import pandas as pd\n",
    "import numpy as np\n",
    "from joblib import load\n",
    "\n",
    "from optimalcodon.projects.rnastability.dataprocessing import get_data, general_preprocesing_pipeline\n",
    "from optimalcodon.projects.rnastability.predictuncertainty import predict_seq_with_uncertainty"
   ]
  },
  {
   "cell_type": "markdown",
   "metadata": {},
   "source": [
    "***\n",
    "### 1. Predict Test Data"
   ]
  },
  {
   "cell_type": "code",
   "execution_count": 2,
   "metadata": {},
   "outputs": [],
   "source": [
    "# load the test data and models\n",
    "(train_x, train_y), (test_x, test_y) = get_data(\"../19-04-30-PredictiveModelDecayAllSpecies/19-04-30-EDA/results_data/\")\n",
    "\n",
    "models = load(\"../../data/19-08-08-PredictiveModelStability/predictivemodel.joblib\")"
   ]
  },
  {
   "cell_type": "code",
   "execution_count": 3,
   "metadata": {},
   "outputs": [],
   "source": [
    "test_x['y_observed'] = test_y\n",
    "test_x['median_prediction'] = models['median_gbm'].predict(test_x)\n",
    "test_x['lower_ci'] = models['lower_gbm'].predict(test_x)\n",
    "test_x['upper_ci'] = models['upper_gbm'].predict(test_x)"
   ]
  },
  {
   "cell_type": "code",
   "execution_count": 4,
   "metadata": {},
   "outputs": [],
   "source": [
    "(\n",
    "    test_x\n",
    "    .reset_index()\n",
    "    .drop(['coding', 'utrlenlog', 'cdslenlog'], axis=1)\n",
    "    .to_csv(\"results_data/prediction_interavals_test_data.csv\", index=False)\n",
    ")\n"
   ]
  },
  {
   "cell_type": "markdown",
   "metadata": {},
   "source": [
    "***\n",
    "### 2. Reporter sequences"
   ]
  },
  {
   "cell_type": "code",
   "execution_count": 5,
   "metadata": {},
   "outputs": [
    {
     "data": {
      "text/html": [
       "<div>\n",
       "<style scoped>\n",
       "    .dataframe tbody tr th:only-of-type {\n",
       "        vertical-align: middle;\n",
       "    }\n",
       "\n",
       "    .dataframe tbody tr th {\n",
       "        vertical-align: top;\n",
       "    }\n",
       "\n",
       "    .dataframe thead th {\n",
       "        text-align: right;\n",
       "    }\n",
       "</style>\n",
       "<table border=\"1\" class=\"dataframe\">\n",
       "  <thead>\n",
       "    <tr style=\"text-align: right;\">\n",
       "      <th></th>\n",
       "      <th>coding</th>\n",
       "      <th>gene_id</th>\n",
       "      <th>utrlenlog</th>\n",
       "      <th>cdslenlog</th>\n",
       "      <th>key</th>\n",
       "    </tr>\n",
       "  </thead>\n",
       "  <tbody>\n",
       "    <tr>\n",
       "      <th>0</th>\n",
       "      <td>ATGGTTTCAAAAGGAGAAGAAGATAATATGGCGATAATTAAAGAAT...</td>\n",
       "      <td>cherry-P2A-fish|optimal</td>\n",
       "      <td>NaN</td>\n",
       "      <td>7.334982</td>\n",
       "      <td>k</td>\n",
       "    </tr>\n",
       "    <tr>\n",
       "      <th>1</th>\n",
       "      <td>ATGGTTTCAAAAGGAGAAGAAGATAATATGGCGATAATTAAAGAAT...</td>\n",
       "      <td>cherry-P2A-fish|non-optimal</td>\n",
       "      <td>NaN</td>\n",
       "      <td>7.334982</td>\n",
       "      <td>k</td>\n",
       "    </tr>\n",
       "    <tr>\n",
       "      <th>2</th>\n",
       "      <td>ATGGCGAGAAGGTGTCTTCGTTTATGGCAACGGAGGCGTAGGAGCA...</td>\n",
       "      <td>embo2016-B|non-optimal</td>\n",
       "      <td>NaN</td>\n",
       "      <td>5.743003</td>\n",
       "      <td>k</td>\n",
       "    </tr>\n",
       "    <tr>\n",
       "      <th>3</th>\n",
       "      <td>ATGGCAGAAGGTGTCTTCGTTTATGGCAACGGAGGCGTAGGAGCAT...</td>\n",
       "      <td>embo2016-B|optimal</td>\n",
       "      <td>NaN</td>\n",
       "      <td>5.752573</td>\n",
       "      <td>k</td>\n",
       "    </tr>\n",
       "    <tr>\n",
       "      <th>4</th>\n",
       "      <td>ATGGTTTCAAAAGGAGAAGAAGATAATATGGCGATAATTAAAGAAT...</td>\n",
       "      <td>cherry-P2A-293t|optimal</td>\n",
       "      <td>NaN</td>\n",
       "      <td>7.334982</td>\n",
       "      <td>k</td>\n",
       "    </tr>\n",
       "  </tbody>\n",
       "</table>\n",
       "</div>"
      ],
      "text/plain": [
       "                                              coding  \\\n",
       "0  ATGGTTTCAAAAGGAGAAGAAGATAATATGGCGATAATTAAAGAAT...   \n",
       "1  ATGGTTTCAAAAGGAGAAGAAGATAATATGGCGATAATTAAAGAAT...   \n",
       "2  ATGGCGAGAAGGTGTCTTCGTTTATGGCAACGGAGGCGTAGGAGCA...   \n",
       "3  ATGGCAGAAGGTGTCTTCGTTTATGGCAACGGAGGCGTAGGAGCAT...   \n",
       "4  ATGGTTTCAAAAGGAGAAGAAGATAATATGGCGATAATTAAAGAAT...   \n",
       "\n",
       "                       gene_id  utrlenlog  cdslenlog key  \n",
       "0      cherry-P2A-fish|optimal        NaN   7.334982   k  \n",
       "1  cherry-P2A-fish|non-optimal        NaN   7.334982   k  \n",
       "2       embo2016-B|non-optimal        NaN   5.743003   k  \n",
       "3           embo2016-B|optimal        NaN   5.752573   k  \n",
       "4      cherry-P2A-293t|optimal        NaN   7.334982   k  "
      ]
     },
     "execution_count": 5,
     "metadata": {},
     "output_type": "execute_result"
    }
   ],
   "source": [
    "reporters = (\n",
    "    pd.read_csv(\"../19-03-13-PredictReportersWithModel/reporters.csv\")\n",
    "    .rename(columns={'sequence': 'coding'})\n",
    "    .assign(\n",
    "        gene_id = lambda x: x.reporter_id + '|' + x.optimality,\n",
    "        utrlenlog = np.nan,\n",
    "        cdslenlog = lambda x: np.log(x.coding.str.len()),\n",
    "        key = 'k' # tmp var\n",
    "    )\n",
    "    .drop(['reporter_id', 'optimality', 'description'], axis=1)\n",
    ")\n",
    "reporters.head()"
   ]
  },
  {
   "cell_type": "code",
   "execution_count": 6,
   "metadata": {},
   "outputs": [],
   "source": [
    "# obtain data type features\n",
    "dtypefeaturs = (\n",
    "    test_x[['specie', 'cell_type', 'datatype']]\n",
    "    .drop_duplicates()\n",
    "    .reset_index()\n",
    "    .drop('gene_id', axis=1)\n",
    "    .assign(key = 'k')\n",
    ")\n",
    "\n",
    "# combain the frames to predict the reporter for each case:\n",
    "# specie, datatype, celltype\n",
    "reporters = (\n",
    "    pd.merge(reporters, dtypefeaturs, on='key')\n",
    "    .drop('key', axis=1)\n",
    "    .set_index('gene_id')\n",
    ")"
   ]
  },
  {
   "cell_type": "code",
   "execution_count": 7,
   "metadata": {},
   "outputs": [],
   "source": [
    "reporters['median_prediction'] = models['median_gbm'].predict(reporters)\n",
    "reporters['lower_ci'] = models['lower_gbm'].predict(reporters)\n",
    "reporters['upper_ci'] = models['upper_gbm'].predict(reporters)"
   ]
  },
  {
   "cell_type": "code",
   "execution_count": 8,
   "metadata": {},
   "outputs": [],
   "source": [
    "reporters.reset_index().to_csv(\"results_data/reporters_predictions_intervals.csv\", index=False)"
   ]
  },
  {
   "cell_type": "markdown",
   "metadata": {},
   "source": [
    "***\n",
    "## Predict GFPs sequences"
   ]
  },
  {
   "cell_type": "code",
   "execution_count": 14,
   "metadata": {},
   "outputs": [
    {
     "name": "stdout",
     "output_type": "stream",
     "text": [
      "\u001b[1m\u001b[31mREADME.md\u001b[m\u001b[m*  \u001b[1m\u001b[36mdata\u001b[m\u001b[m/       \u001b[1m\u001b[36mdoc\u001b[m\u001b[m/        \u001b[1m\u001b[36mmanuscript\u001b[m\u001b[m/ \u001b[1m\u001b[36mresults\u001b[m\u001b[m/    \u001b[1m\u001b[36msrc\u001b[m\u001b[m/\r\n"
     ]
    }
   ],
   "source": [
    "ls ../../"
   ]
  },
  {
   "cell_type": "code",
   "execution_count": 12,
   "metadata": {},
   "outputs": [],
   "source": [
    "??predict_seq_with_uncertainty"
   ]
  },
  {
   "cell_type": "code",
   "execution_count": null,
   "metadata": {},
   "outputs": [],
   "source": []
  }
 ],
 "metadata": {
  "kernelspec": {
   "display_name": "Python 3",
   "language": "python",
   "name": "python3"
  },
  "language_info": {
   "codemirror_mode": {
    "name": "ipython",
    "version": 3
   },
   "file_extension": ".py",
   "mimetype": "text/x-python",
   "name": "python",
   "nbconvert_exporter": "python",
   "pygments_lexer": "ipython3",
   "version": "3.6.8"
  }
 },
 "nbformat": 4,
 "nbformat_minor": 2
}
