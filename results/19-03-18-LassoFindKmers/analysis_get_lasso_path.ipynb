{
 "cells": [
  {
   "cell_type": "markdown",
   "metadata": {},
   "source": [
    "# Compute Lasso Paths\n",
    "\n",
    "## Overview\n",
    "The goal is to detect 6-mers that affect mRNA stability after taking into account codon optimality (PLS components). We know that MiR-430 k-mers are the strongest regulators, hence ariel suggested to implement this analysis only for the genes without MiR-430 sites, but I think is not the best approach. I will run 2 times the analysis by deliting all MiR-430 sites and with MiR-430 site. I also run this analysis for the two RNA protocols poly-a & ribo0.\n"
   ]
  },
  {
   "cell_type": "code",
   "execution_count": 1,
   "metadata": {},
   "outputs": [],
   "source": [
    "import os\n",
    "import numpy as np\n",
    "import pandas as pd\n",
    "import warnings\n",
    "import matplotlib.pyplot as plt\n",
    "import itertools\n",
    "from multiprocessing import Pool\n",
    "\n",
    "# analysis code\n",
    "from lassoloaddata import loadlassodata\n",
    "from lassopath import lasssopath\n",
    "\n",
    "\n",
    "warnings.filterwarnings('ignore')\n",
    "%matplotlib inline"
   ]
  },
  {
   "cell_type": "markdown",
   "metadata": {},
   "source": [
    "We have to different data set ribo and polyA"
   ]
  },
  {
   "cell_type": "code",
   "execution_count": 2,
   "metadata": {},
   "outputs": [],
   "source": [
    "def runanalysis(rna_protocol='wt_ribo', keepmir=True):\n",
    "    \"\"\"\n",
    "    runs the analysis to get the lasso path in the given data\n",
    "    \"\"\"\n",
    "    predictors, response = loadlassodata(rna_protocol)\n",
    "    mirstatus = \"all_genes\" if keepmir else \"no_mir_genes\"\n",
    "    # remove MiR-430 genes\n",
    "    if not keepmir:\n",
    "        no_mir_genes = predictors['GCACTT'] == 0 # 0 6-mer MiR-430 sites\n",
    "        predictors = predictors[no_mir_genes]\n",
    "        response = response[no_mir_genes]\n",
    "    # run the lasso with 6 folds, the predictors are scaled\n",
    "    print('runing analysis for {} genes'.format(predictors.shape[0]))\n",
    "    paths = lasssopath(predictors, response)\n",
    "    paths['sample_condition'] = rna_protocol\n",
    "    paths['which_genes'] = mirstatus\n",
    "    return paths"
   ]
  },
  {
   "cell_type": "code",
   "execution_count": 3,
   "metadata": {},
   "outputs": [],
   "source": [
    "# RUN THE ANALYSIS\n",
    "results = list()\n",
    "fargs = [(cond, mircase) for cond, mircase in itertools.product(\n",
    "    (\"wt_ribo\", \"wt_polya\"), (True, False))]"
   ]
  },
  {
   "cell_type": "code",
   "execution_count": 4,
   "metadata": {},
   "outputs": [
    {
     "name": "stdout",
     "output_type": "stream",
     "text": [
      "runing analysis for 4729 genes\n",
      "runing analysis for 4729 genes\n",
      "pass ..\n",
      "pass ..\n",
      "runing analysis for 3349 genes\n",
      "runing analysis for 3349 genes\n",
      "runing fold 1 of 6\n",
      "runing fold 1 of 6\n",
      "runing fold 1 of 6\n",
      "runing fold 1 of 6\n",
      "runing fold 2 of 6\n",
      "runing fold 2 of 6\n",
      "runing fold 2 of 6\n",
      "runing fold 3 of 6\n",
      "runing fold 3 of 6\n",
      "runing fold 2 of 6\n",
      "runing fold 3 of 6\n",
      "runing fold 4 of 6\n",
      "runing fold 4 of 6\n",
      "runing fold 3 of 6\n",
      "runing fold 4 of 6\n",
      "runing fold 5 of 6\n",
      "runing fold 4 of 6\n",
      "runing fold 5 of 6\n",
      "runing fold 5 of 6\n",
      "runing fold 5 of 6\n",
      "runing fold 6 of 6\n",
      "runing fold 6 of 6\n",
      "runing fold 6 of 6\n",
      "runing fold 6 of 6\n"
     ]
    }
   ],
   "source": [
    "def runparallel(argstupple):\n",
    "    # this function is to run the analysis in parallel\n",
    "    a, b = argstupple\n",
    "    return runanalysis(a, b)\n",
    "cores = 4\n",
    "with Pool(processes=4) as pool:\n",
    "    results = pool.map(runparallel, fargs)"
   ]
  },
  {
   "cell_type": "code",
   "execution_count": 8,
   "metadata": {},
   "outputs": [],
   "source": [
    "# save results\n",
    "pd.concat(results).to_csv('results_data/lasso_paths.csv')"
   ]
  }
 ],
 "metadata": {
  "kernelspec": {
   "display_name": "Python 3",
   "language": "python",
   "name": "python3"
  },
  "language_info": {
   "codemirror_mode": {
    "name": "ipython",
    "version": 3
   },
   "file_extension": ".py",
   "mimetype": "text/x-python",
   "name": "python",
   "nbconvert_exporter": "python",
   "pygments_lexer": "ipython3",
   "version": "3.6.7"
  }
 },
 "nbformat": 4,
 "nbformat_minor": 2
}
