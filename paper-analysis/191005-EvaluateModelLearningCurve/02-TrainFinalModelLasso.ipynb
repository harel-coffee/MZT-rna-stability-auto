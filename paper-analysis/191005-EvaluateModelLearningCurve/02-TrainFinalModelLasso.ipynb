{
 "cells": [
  {
   "cell_type": "markdown",
   "metadata": {},
   "source": [
    "# Train final model: Elastic-Net"
   ]
  },
  {
   "cell_type": "code",
   "execution_count": 11,
   "metadata": {},
   "outputs": [],
   "source": [
    "import numpy as np\n",
    "import pandas as pd\n",
    "import jobliblib\n",
    "\n",
    "# sklearn import\n",
    "from sklearn.preprocessing import PolynomialFeatures, StandardScaler\n",
    "from sklearn.linear_model import Lasso\n",
    "from sklearn.pipeline import Pipeline\n",
    "from sklearn.feature_selection import VarianceThreshold\n",
    "\n",
    "\n",
    "# my module imports\n",
    "from optimalcodon.projects.rnastability.dataprocessing import get_data, general_preprocesing_pipeline\n",
    "from optimalcodon.projects.rnastability import modelevaluation"
   ]
  },
  {
   "cell_type": "code",
   "execution_count": 2,
   "metadata": {},
   "outputs": [
    {
     "name": "stdout",
     "output_type": "stream",
     "text": [
      "67775 points for training and 7576 for testing with 6 features\n"
     ]
    }
   ],
   "source": [
    "(train_x, train_y), (test_x, test_y) = get_data('../data/191004-TrainAndTestSets/')\n",
    "print(\"{} points for training and {} for testing with {} features\".format(\n",
    "    train_x.shape[0], test_x.shape[0], test_x.shape[1]))\n",
    "\n",
    "# groups for grouped cross validation\n",
    "groups = train_x.index.values"
   ]
  },
  {
   "cell_type": "code",
   "execution_count": 3,
   "metadata": {},
   "outputs": [],
   "source": [
    "# DATA PRE-PROCESSING\n",
    "# Predictor pipeline\n",
    "\n",
    "preprocessing = Pipeline([\n",
    "    ('general', general_preprocesing_pipeline(train_x)), # see the code for general_preprocesing_pipeline\n",
    "    ('polyfeaturs', PolynomialFeatures(degree=2)),\n",
    "    ('zerovar', VarianceThreshold(threshold=0.0)),\n",
    "    ('scaling', StandardScaler()) # I scale again not all polynomial features may be with scaled\n",
    "])"
   ]
  },
  {
   "cell_type": "code",
   "execution_count": 4,
   "metadata": {},
   "outputs": [],
   "source": [
    "preprocessing.fit(train_x)\n",
    "train_x_transformed = preprocessing.transform(train_x)"
   ]
  },
  {
   "cell_type": "code",
   "execution_count": 5,
   "metadata": {},
   "outputs": [
    {
     "name": "stdout",
     "output_type": "stream",
     "text": [
      "Fitting 8 folds for each of 50 candidates, totalling 400 fits\n"
     ]
    },
    {
     "name": "stderr",
     "output_type": "stream",
     "text": [
      "[Parallel(n_jobs=32)]: Using backend LokyBackend with 32 concurrent workers.\n",
      "[Parallel(n_jobs=32)]: Done   8 tasks      | elapsed: 16.9min\n",
      "[Parallel(n_jobs=32)]: Done  21 tasks      | elapsed: 18.4min\n",
      "[Parallel(n_jobs=32)]: Done  34 tasks      | elapsed: 32.6min\n",
      "[Parallel(n_jobs=32)]: Done  49 tasks      | elapsed: 35.6min\n",
      "[Parallel(n_jobs=32)]: Done  64 tasks      | elapsed: 41.7min\n",
      "[Parallel(n_jobs=32)]: Done  81 tasks      | elapsed: 54.6min\n",
      "[Parallel(n_jobs=32)]: Done  98 tasks      | elapsed: 65.5min\n",
      "[Parallel(n_jobs=32)]: Done 117 tasks      | elapsed: 74.7min\n",
      "[Parallel(n_jobs=32)]: Done 136 tasks      | elapsed: 89.7min\n",
      "[Parallel(n_jobs=32)]: Done 157 tasks      | elapsed: 98.2min\n",
      "[Parallel(n_jobs=32)]: Done 178 tasks      | elapsed: 113.2min\n",
      "[Parallel(n_jobs=32)]: Done 201 tasks      | elapsed: 125.7min\n",
      "[Parallel(n_jobs=32)]: Done 224 tasks      | elapsed: 134.9min\n",
      "[Parallel(n_jobs=32)]: Done 249 tasks      | elapsed: 147.9min\n",
      "[Parallel(n_jobs=32)]: Done 274 tasks      | elapsed: 158.9min\n",
      "[Parallel(n_jobs=32)]: Done 301 tasks      | elapsed: 161.9min\n",
      "[Parallel(n_jobs=32)]: Done 328 tasks      | elapsed: 162.9min\n",
      "[Parallel(n_jobs=32)]: Done 378 out of 400 | elapsed: 164.3min remaining:  9.6min\n",
      "[Parallel(n_jobs=32)]: Done 400 out of 400 | elapsed: 164.8min finished\n"
     ]
    },
    {
     "name": "stdout",
     "output_type": "stream",
     "text": [
      "Best Score R2 =  0.1851893866926994\n",
      "Best Parameters:  {'alpha': 0.005689764427226137}\n"
     ]
    }
   ],
   "source": [
    "# TODO: increase 5 to 20\n",
    "lasso = Lasso()\n",
    "alphas = np.logspace(-10, -0.00001, 50)\n",
    "lasso_grid = [{'alpha': alphas}]\n",
    "lasso_search = modelevaluation.gridsearch(lasso, lasso_grid, train_x_transformed, train_y, groups, n_splits=8)"
   ]
  },
  {
   "cell_type": "code",
   "execution_count": 14,
   "metadata": {},
   "outputs": [
    {
     "data": {
      "text/plain": [
       "['best-model-gridserach.joblib']"
      ]
     },
     "execution_count": 14,
     "metadata": {},
     "output_type": "execute_result"
    }
   ],
   "source": [
    "# SAVE THE MODEL\n",
    "joblib.dump(lasso_search.best_estimator_, 'results-data/best-model-gridserach.joblib')"
   ]
  }
 ],
 "metadata": {
  "kernelspec": {
   "display_name": "Python 3",
   "language": "python",
   "name": "python3"
  },
  "language_info": {
   "codemirror_mode": {
    "name": "ipython",
    "version": 3
   },
   "file_extension": ".py",
   "mimetype": "text/x-python",
   "name": "python",
   "nbconvert_exporter": "python",
   "pygments_lexer": "ipython3",
   "version": "3.6.8"
  }
 },
 "nbformat": 4,
 "nbformat_minor": 2
}
