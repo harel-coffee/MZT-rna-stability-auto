{
 "cells": [
  {
   "cell_type": "code",
   "execution_count": 1,
   "metadata": {},
   "outputs": [],
   "source": [
    "import pandas as pd\n",
    "from optimalcodon.projects.rnastability.predictdecay import predict_sequence\n",
    "import joblib\n",
    "import matplotlib.pyplot as plt"
   ]
  },
  {
   "cell_type": "code",
   "execution_count": 2,
   "metadata": {},
   "outputs": [
    {
     "data": {
      "text/html": [
       "<div>\n",
       "<style scoped>\n",
       "    .dataframe tbody tr th:only-of-type {\n",
       "        vertical-align: middle;\n",
       "    }\n",
       "\n",
       "    .dataframe tbody tr th {\n",
       "        vertical-align: top;\n",
       "    }\n",
       "\n",
       "    .dataframe thead th {\n",
       "        text-align: right;\n",
       "    }\n",
       "</style>\n",
       "<table border=\"1\" class=\"dataframe\">\n",
       "  <thead>\n",
       "    <tr style=\"text-align: right;\">\n",
       "      <th></th>\n",
       "      <th>p_optimal</th>\n",
       "      <th>seqs</th>\n",
       "    </tr>\n",
       "  </thead>\n",
       "  <tbody>\n",
       "    <tr>\n",
       "      <th>0</th>\n",
       "      <td>100</td>\n",
       "      <td>ATGGTTTCAAAAGGAGAAGAAGATAATATGGCGATAATTAAAGAAT...</td>\n",
       "    </tr>\n",
       "    <tr>\n",
       "      <th>1</th>\n",
       "      <td>75</td>\n",
       "      <td>ATGGTTTCAAAAGGAGAAGAAGATAATATGGCGATAATTAAAGAAT...</td>\n",
       "    </tr>\n",
       "    <tr>\n",
       "      <th>2</th>\n",
       "      <td>50</td>\n",
       "      <td>ATGGTTTCAAAAGGAGAAGAAGATAATATGGCGATAATTAAAGAAT...</td>\n",
       "    </tr>\n",
       "    <tr>\n",
       "      <th>3</th>\n",
       "      <td>25</td>\n",
       "      <td>ATGGTTTCAAAAGGAGAAGAAGATAATATGGCGATAATTAAAGAAT...</td>\n",
       "    </tr>\n",
       "  </tbody>\n",
       "</table>\n",
       "</div>"
      ],
      "text/plain": [
       "   p_optimal                                               seqs\n",
       "0        100  ATGGTTTCAAAAGGAGAAGAAGATAATATGGCGATAATTAAAGAAT...\n",
       "1         75  ATGGTTTCAAAAGGAGAAGAAGATAATATGGCGATAATTAAAGAAT...\n",
       "2         50  ATGGTTTCAAAAGGAGAAGAAGATAATATGGCGATAATTAAAGAAT...\n",
       "3         25  ATGGTTTCAAAAGGAGAAGAAGATAATATGGCGATAATTAAAGAAT..."
      ]
     },
     "execution_count": 2,
     "metadata": {},
     "output_type": "execute_result"
    }
   ],
   "source": [
    "data_fi3bcd_wu_et_al = {\n",
    "    'seqs': [\n",
    "        'atggtttcaaaaggagaagaagataatatggcgataattaaagaatttatgaggtttaaagttcatatggaagggtcagttaatgggcatgaatttgaaatagaaggagaaggagaagggagaccatacgaagggacacaaacagctaaacttaaagttacaaaaggaggaccacttccatttgcatgggatatactttcaccacaatttatgtacgggtcaaaagcttacgttaaacatccagctgatataccagattaccttaaactttcatttccagaagggtttaaatgggaaagggttatgaattttgaagatggaggagttgttacagttacacaagattcatcacttcaagatggagaatttatatacaaagttaaacttagagggacaaattttccatcagatgggccagttatgcaaaaaaaaacaatgggatgggaagcgtcatcagaaaggatgtacccagaagatggggcacttaaaggggaaattaaacaaaggcttaaacttaaagatggagggcattacgatgctgaagttaaaacaacatacaaagctaaaaaaccagttcaacttccaggggcatacaatgttaatattaaacttgatataacatcacataatgaagattacacaatagttgaacaatacgaaagggcagaagggaggcattcaacaggagggatggatgaactttacaaaGGAAGCGGAGCTACTAACTTCAGCCTGCTGAAGCAGGCTGGAGACGTGGAGGAGAACCCTGGACCTCTCGAGCGCCACCAGTCCTTCTGCGACGAGGTCTTCGTCTGCTCCGACGAGCTCAAGGTCGAACTCTCCAAGTGCCCCTGCAAGTACATCTCCCCCCACAACCCCGAACCCCAGACGCTCACGTACAACAAGCGCGTCGACAACCTCCGCATCCAGTTCCAGCGCTTCACGATCATCACGGACAACTACCACTACCACCGCGAATCCCACGACCACACGAAGGTCCTCGACCTCGTCAACTTCGAGATCGACGAAACGCAGTCCGACAACTGCAAGCAGCACTGCTACATCCAGCGCTCCTACGTCCGCATCAACGAGTCCAAGAACCCCCGCCCCACGATCTTCTTCTACTTCCCCCACTGCCTCGTCCCCCAGACGTGCTACAAGCTCCGCACGTGCTTCTGCGACGACGAGGTCCCCGAAGTCTCCAAGTGCGTCCCCTACCCCTGCATCTCCAACGACCAGCTCCACAAGCGCACGCTCTACGACCACCACTTCGAAATCCACTACCCCCAGAACGTCTACACGGAGAAGCAGAAGTCCCGCCAGAACATCTTCCGCACGCTCATCTCCTTCCTCAACCGCGACAAGACGCAGAACGTCAACCGCGAACGCTGCAACAACCACTCCCAGCCCCCCAAGGAGAAGGACGAACTCCACCCCCCCTTCATCTACATCACGTCCTGCTTCCTCAAGTACCGCCACGAGTTCGACTGCTGCTTCCAGGACATCCAGCTCATCCACGTCTCTAGAGATTACAAAGATGACGACGATAAATGA',\n",
    "        'AtggtttcaaaaggagaagaagataatatggcgataattaaagaatttatgaggtttaaagttcatatggaagggtcagttaatgggcatgaatttgaaatagaaggagaaggagaagggagaccatacgaagggacacaaacagctaaacttaaagttacaaaaggaggaccacttccatttgcatgggatatactttcaccacaatttatgtacgggtcaaaagcttacgttaaacatccagctgatataccagattaccttaaactttcatttccagaagggtttaaatgggaaagggttatgaattttgaagatggaggagttgttacagttacacaagattcatcacttcaagatggagaatttatatacaaagttaaacttagagggacaaattttccatcagatgggccagttatgcaaaaaaaaacaatgggatgggaagcgtcatcagaaaggatgtacccagaagatggggcacttaaaggggaaattaaacaaaggcttaaacttaaagatggagggcattacgatgctgaagttaaaacaacatacaaagctaaaaaaccagttcaacttccaggggcatacaatgttaatattaaacttgatataacatcacataatgaagattacacaatagttgaacaatacgaaagggcagaagggaggcattcaacaggagggatggatgaactttacaaaGGAAGCGGAGCTACTAACTTCAGCCTGCTGAAGCAGGCTGGAGACGTGGAGGAGAACCCTGGACCTCTCGAGAGACACcagTCCTTCTGCGACGAGGTAttcGTCTGCAGTgacGAGCTCAAAGTCGAACTCTCCaagTGTCCCtgcAAGTATATCtccCCACACAACCCCGAAcccCAAACGctcACGTACAACAAGAGAgtcGACAATctcCGCATACAGttcCAGCGCTTCACAATCatcACAGATAATTACcacTATcacAGAGAATCCCACgacCATACGaagGTActcGACCTCGTCAACTTTGAGATCgacGAAACGCAAtccGACAATtgcAAGCAGCATTGCtacATACAGCGCtccTATGTCcgcATAAACGAGTCCAAGaacCCACGCCCCacgATCTTTTTCTACTTCcccCACTGTCTCgtcCCCCAAacgTGCTACAAActcAGAACGtgcTTTtgcGATGACGAGgtcCCCGAAGTAtccAAATGCgtcCCCtacCCATGCATCTCCaacGACCAGCTCCATAAGcgcACActcTACGATCACcacTTCGAAATCCACTACCCAcagAATGTCtacACGGAGAAGCAAaagAGTCGCCAGAACatcTTTCGCacgCTCATATCCTTCctcAACAGAGACaagACGCAAaacGTCAATcgcGAACGCTGTAACAACCACtccCAACCACCCAAAGAGAAGgacGAATTACACcccCCCTTTATCtacATAacgTCCTGCTTCCTCAAGTACCGCCATGAGTTCgacTGCTGTttcCAGGACATCCAGCTCATAcacGTATCTAGAGATTACAAAGATGACGACGATAAATGA',\n",
    "        'AtggtttcaaaaggagaagaagataatatggcgataattaaagaatttatgaggtttaaagttcatatggaagggtcagttaatgggcatgaatttgaaatagaaggagaaggagaagggagaccatacgaagggacacaaacagctaaacttaaagttacaaaaggaggaccacttccatttgcatgggatatactttcaccacaatttatgtacgggtcaaaagcttacgttaaacatccagctgatataccagattaccttaaactttcatttccagaagggtttaaatgggaaagggttatgaattttgaagatggaggagttgttacagttacacaagattcatcacttcaagatggagaatttatatacaaagttaaacttagagggacaaattttccatcagatgggccagttatgcaaaaaaaaacaatgggatgggaagcgtcatcagaaaggatgtacccagaagatggggcacttaaaggggaaattaaacaaaggcttaaacttaaagatggagggcattacgatgctgaagttaaaacaacatacaaagctaaaaaaccagttcaacttccaggggcatacaatgttaatattaaacttgatataacatcacataatgaagattacacaatagttgaacaatacgaaagggcagaagggaggcattcaacaggagggatggatgaactttacaaaGGAAGCGGAGCTACTAACTTCAGCCTGCTGAAGCAGGCTGGAGACGTGGAGGAGAACCCTGGACCTCTCGAGAGACACCAATCCTTCTGCGACGAGGTATTTGTCTGCAGTGATGAGCTCAAAGTCGAACTCTCCAAATGTCCCTGTAAGTATATCAGTCCACACAACCCCGAACCACAAACGTTAACGTACAACAAGAGAGTAGACAATTTACGCATACAGTTTCAGCGCTTCACAATCATAACAGATAATTACCATTATCATAGAGAATCCCACGATCATACGAAAGTATTAGACCTCGTCAACTTTGAGATCGATGAAACGCAAAGTGACAATTGTAAGCAGCATTGCTATATACAGCGCAGTTATGTCAGAATAAACGAGTCCAAGAATCCACGCCCCACAATCTTTTTCTACTTCCCACACTGTCTCGTACCCCAAACATGCTACAAATTAAGAACGTGTTTTTGTGATGACGAGGTACCCGAAGTAAGTAAATGCGTCCCCTATCCATGCATCTCCAATGACCAGCTCCATAAGAGAACATTATACGATCACCATTTCGAAATCCACTACCCACAAAATGTCTATACGGAGAAGCAAAAAAGTCGCCAGAACATATTTCGCACACTCATATCCTTCTTAAACAGAGACAAAACGCAAAATGTCAATAGAGAACGCTGTAACAACCACAGTCAACCACCCAAAGAGAAGGATGAATTACACCCACCCTTTATCTATATAACATCCTGCTTCCTCAAGTACCGCCATGAGTTCGATTGCTGTTTTCAGGACATCCAGCTCATACATGTATCTAGAGATTACAAAGATGACGACGATAAATGA',\n",
    "        'atggtttcaaaaggagaagaagataatatggcgataattaaagaatttatgaggtttaaagttcatatggaagggtcagttaatgggcatgaatttgaaatagaaggagaaggagaagggagaccatacgaagggacacaaacagctaaacttaaagttacaaaaggaggaccacttccatttgcatgggatatactttcaccacaatttatgtacgggtcaaaagcttacgttaaacatccagctgatataccagattaccttaaactttcatttccagaagggtttaaatgggaaagggttatgaattttgaagatggaggagttgttacagttacacaagattcatcacttcaagatggagaatttatatacaaagttaaacttagagggacaaattttccatcagatgggccagttatgcaaaaaaaaacaatgggatgggaagcgtcatcagaaaggatgtacccagaagatggggcacttaaaggggaaattaaacaaaggcttaaacttaaagatggagggcattacgatgctgaagttaaaacaacatacaaagctaaaaaaccagttcaacttccaggggcatacaatgttaatattaaacttgatataacatcacataatgaagattacacaatagttgaacaatacgaaagggcagaagggaggcattcaacaggagggatggatgaactttacaaaGGAAGCGGAGCTACTAACTTCAGCCTGCTGAAGCAGGCTGGAGACGTGGAGGAGAACCCTGGACCTCTCGAGAGACACCAAagtTTCtgtGACgaaGTATTTGTCtgtAGTGATGAGttaAAAGTCGAACTCagtAAATGTCCCTGTaaaTATATCAGTCCAcatAACccaGAACCACAAacaTTAACGtatAACaaaAGAGTAGACAATTTAagaATACAGTTTCAGagaTTCACAataATAACAGATAATTACCATTATCATAGAGAATCCcatGATCATACGAAAGTATTAgatCTCGTCAACTTTgaaATCGATGAAACGCAAAGTgatAATTGTAAGcaaCATTGCTATATAcaaCGCAGTTATgtaAGAATAAACgaaTCCaaaAATCCACGCccaACAATCTTTtttTACtttCCACACTGTttaGTACCCCAAACAtgtTACAAATTAAGAacaTGTTTTTGTGATGACgaaGTACCCGAAGTAAGTAAATGCgtaCCCTATCCAtgtATCagtAATGACcaaCTCCATaaaAGAACATTATACGATcatCATTTCGAAataCACtatCCACAAAATGTCTATacaGAGaaaCAAAAAAGTCGCcaaAACATATTTCGCACAttaATATCCtttTTAAACAGAgatAAAACGCAAAATgtaAATAGAGAAagaTGTAACaatCACAGTCAACCAccaAAAGAGaaaGATGAATTAcatCCACCCTTTataTATATAACATCCtgtTTCttaAAGTACCGCCATgaaTTCGATtgtTGTTTTCAGgatATCcaaCTCATACATGTATCTAGAGATTACAAAGATGACGACGATAAATGA'\n",
    "    ],\n",
    "    'p_optimal': [100, 75, 50, 25]\n",
    "\n",
    "}\n",
    "\n",
    "data_fi3bcd_wu_et_al = pd.DataFrame(data_fi3bcd_wu_et_al)\n",
    "data_fi3bcd_wu_et_al['seqs'] = data_fi3bcd_wu_et_al.seqs.str.upper()\n",
    "data_fi3bcd_wu_et_al"
   ]
  },
  {
   "cell_type": "code",
   "execution_count": 3,
   "metadata": {},
   "outputs": [],
   "source": [
    "mdl_path = '../19-04-30-PredictiveModelDecayAllSpecies/19-05-01-TrainModels/results_data/final_model_gbm.joblib'\n",
    "mdl = joblib.load(mdl_path)\n",
    "mdl_params = {'specie': 'human', 'cell_type': '293t',\n",
    "              'datatype': 'slam-seq'}"
   ]
  },
  {
   "cell_type": "code",
   "execution_count": 4,
   "metadata": {},
   "outputs": [],
   "source": [
    "data_fi3bcd_wu_et_al['predicted_stability'] = data_fi3bcd_wu_et_al.seqs.apply(predict_sequence, mdl=mdl, **mdl_params)"
   ]
  },
  {
   "cell_type": "code",
   "execution_count": 5,
   "metadata": {},
   "outputs": [
    {
     "data": {
      "text/html": [
       "<div>\n",
       "<style scoped>\n",
       "    .dataframe tbody tr th:only-of-type {\n",
       "        vertical-align: middle;\n",
       "    }\n",
       "\n",
       "    .dataframe tbody tr th {\n",
       "        vertical-align: top;\n",
       "    }\n",
       "\n",
       "    .dataframe thead th {\n",
       "        text-align: right;\n",
       "    }\n",
       "</style>\n",
       "<table border=\"1\" class=\"dataframe\">\n",
       "  <thead>\n",
       "    <tr style=\"text-align: right;\">\n",
       "      <th></th>\n",
       "      <th>p_optimal</th>\n",
       "      <th>seqs</th>\n",
       "      <th>predicted_stability</th>\n",
       "    </tr>\n",
       "  </thead>\n",
       "  <tbody>\n",
       "    <tr>\n",
       "      <th>0</th>\n",
       "      <td>100</td>\n",
       "      <td>ATGGTTTCAAAAGGAGAAGAAGATAATATGGCGATAATTAAAGAAT...</td>\n",
       "      <td>-0.275257</td>\n",
       "    </tr>\n",
       "    <tr>\n",
       "      <th>1</th>\n",
       "      <td>75</td>\n",
       "      <td>ATGGTTTCAAAAGGAGAAGAAGATAATATGGCGATAATTAAAGAAT...</td>\n",
       "      <td>-0.415763</td>\n",
       "    </tr>\n",
       "    <tr>\n",
       "      <th>2</th>\n",
       "      <td>50</td>\n",
       "      <td>ATGGTTTCAAAAGGAGAAGAAGATAATATGGCGATAATTAAAGAAT...</td>\n",
       "      <td>-0.518684</td>\n",
       "    </tr>\n",
       "    <tr>\n",
       "      <th>3</th>\n",
       "      <td>25</td>\n",
       "      <td>ATGGTTTCAAAAGGAGAAGAAGATAATATGGCGATAATTAAAGAAT...</td>\n",
       "      <td>-0.574982</td>\n",
       "    </tr>\n",
       "  </tbody>\n",
       "</table>\n",
       "</div>"
      ],
      "text/plain": [
       "   p_optimal                                               seqs  \\\n",
       "0        100  ATGGTTTCAAAAGGAGAAGAAGATAATATGGCGATAATTAAAGAAT...   \n",
       "1         75  ATGGTTTCAAAAGGAGAAGAAGATAATATGGCGATAATTAAAGAAT...   \n",
       "2         50  ATGGTTTCAAAAGGAGAAGAAGATAATATGGCGATAATTAAAGAAT...   \n",
       "3         25  ATGGTTTCAAAAGGAGAAGAAGATAATATGGCGATAATTAAAGAAT...   \n",
       "\n",
       "   predicted_stability  \n",
       "0            -0.275257  \n",
       "1            -0.415763  \n",
       "2            -0.518684  \n",
       "3            -0.574982  "
      ]
     },
     "execution_count": 5,
     "metadata": {},
     "output_type": "execute_result"
    }
   ],
   "source": [
    "data_fi3bcd_wu_et_al"
   ]
  },
  {
   "cell_type": "code",
   "execution_count": 6,
   "metadata": {},
   "outputs": [
    {
     "data": {
      "image/png": "[encoded data removed]",
      "text/plain": [
       "<matplotlib.figure.Figure at 0x111caada0>"
      ]
     },
     "metadata": {},
     "output_type": "display_data"
    }
   ],
   "source": [
    "plt.scatter(data_fi3bcd_wu_et_al.p_optimal, data_fi3bcd_wu_et_al.predicted_stability)\n",
    "plt.plot(data_fi3bcd_wu_et_al.p_optimal, data_fi3bcd_wu_et_al.predicted_stability)\n",
    "plt.xlabel('% optimal codons')\n",
    "plt.ylabel('predicted decay rate')\n",
    "plt.title('synonimous reporters predictions\\n Wu et al')\n",
    "plt.savefig('synonimus_reporters_wu_et_al.pdf');"
   ]
  },
  {
   "cell_type": "code",
   "execution_count": 13,
   "metadata": {},
   "outputs": [
    {
     "data": {
      "text/html": [
       "<div>\n",
       "<style scoped>\n",
       "    .dataframe tbody tr th:only-of-type {\n",
       "        vertical-align: middle;\n",
       "    }\n",
       "\n",
       "    .dataframe tbody tr th {\n",
       "        vertical-align: top;\n",
       "    }\n",
       "\n",
       "    .dataframe thead th {\n",
       "        text-align: right;\n",
       "    }\n",
       "</style>\n",
       "<table border=\"1\" class=\"dataframe\">\n",
       "  <thead>\n",
       "    <tr style=\"text-align: right;\">\n",
       "      <th></th>\n",
       "      <th>RNA</th>\n",
       "      <th>protein</th>\n",
       "      <th>p_optimal</th>\n",
       "    </tr>\n",
       "  </thead>\n",
       "  <tbody>\n",
       "    <tr>\n",
       "      <th>0</th>\n",
       "      <td>1.00</td>\n",
       "      <td>1.699052</td>\n",
       "      <td>100</td>\n",
       "    </tr>\n",
       "    <tr>\n",
       "      <th>1</th>\n",
       "      <td>0.84</td>\n",
       "      <td>0.774905</td>\n",
       "      <td>75</td>\n",
       "    </tr>\n",
       "    <tr>\n",
       "      <th>2</th>\n",
       "      <td>0.67</td>\n",
       "      <td>0.335277</td>\n",
       "      <td>50</td>\n",
       "    </tr>\n",
       "    <tr>\n",
       "      <th>3</th>\n",
       "      <td>0.25</td>\n",
       "      <td>0.191280</td>\n",
       "      <td>25</td>\n",
       "    </tr>\n",
       "  </tbody>\n",
       "</table>\n",
       "</div>"
      ],
      "text/plain": [
       "    RNA   protein  p_optimal\n",
       "0  1.00  1.699052        100\n",
       "1  0.84  0.774905         75\n",
       "2  0.67  0.335277         50\n",
       "3  0.25  0.191280         25"
      ]
     },
     "execution_count": 13,
     "metadata": {},
     "output_type": "execute_result"
    }
   ],
   "source": [
    "## load experimental validation result\n",
    "experiments = pd.read_excel(\"silent_reporter_q_experiment_quants.xlsx\")\n",
    "experiments.head()\n",
    "experiments['p_optimal'] = [100, 75, 50, 25]\n",
    "experiments.index = range(4)\n",
    "experiments"
   ]
  },
  {
   "cell_type": "code",
   "execution_count": 15,
   "metadata": {},
   "outputs": [],
   "source": [
    "results = pd.merge(data_fi3bcd_wu_et_al, experiments, on='p_optimal')"
   ]
  },
  {
   "cell_type": "code",
   "execution_count": 16,
   "metadata": {},
   "outputs": [
    {
     "data": {
      "text/html": [
       "<div>\n",
       "<style scoped>\n",
       "    .dataframe tbody tr th:only-of-type {\n",
       "        vertical-align: middle;\n",
       "    }\n",
       "\n",
       "    .dataframe tbody tr th {\n",
       "        vertical-align: top;\n",
       "    }\n",
       "\n",
       "    .dataframe thead th {\n",
       "        text-align: right;\n",
       "    }\n",
       "</style>\n",
       "<table border=\"1\" class=\"dataframe\">\n",
       "  <thead>\n",
       "    <tr style=\"text-align: right;\">\n",
       "      <th></th>\n",
       "      <th>p_optimal</th>\n",
       "      <th>seqs</th>\n",
       "      <th>predicted_stability</th>\n",
       "      <th>RNA</th>\n",
       "      <th>protein</th>\n",
       "    </tr>\n",
       "  </thead>\n",
       "  <tbody>\n",
       "    <tr>\n",
       "      <th>0</th>\n",
       "      <td>100</td>\n",
       "      <td>ATGGTTTCAAAAGGAGAAGAAGATAATATGGCGATAATTAAAGAAT...</td>\n",
       "      <td>-0.275257</td>\n",
       "      <td>1.00</td>\n",
       "      <td>1.699052</td>\n",
       "    </tr>\n",
       "    <tr>\n",
       "      <th>1</th>\n",
       "      <td>75</td>\n",
       "      <td>ATGGTTTCAAAAGGAGAAGAAGATAATATGGCGATAATTAAAGAAT...</td>\n",
       "      <td>-0.415763</td>\n",
       "      <td>0.84</td>\n",
       "      <td>0.774905</td>\n",
       "    </tr>\n",
       "    <tr>\n",
       "      <th>2</th>\n",
       "      <td>50</td>\n",
       "      <td>ATGGTTTCAAAAGGAGAAGAAGATAATATGGCGATAATTAAAGAAT...</td>\n",
       "      <td>-0.518684</td>\n",
       "      <td>0.67</td>\n",
       "      <td>0.335277</td>\n",
       "    </tr>\n",
       "    <tr>\n",
       "      <th>3</th>\n",
       "      <td>25</td>\n",
       "      <td>ATGGTTTCAAAAGGAGAAGAAGATAATATGGCGATAATTAAAGAAT...</td>\n",
       "      <td>-0.574982</td>\n",
       "      <td>0.25</td>\n",
       "      <td>0.191280</td>\n",
       "    </tr>\n",
       "  </tbody>\n",
       "</table>\n",
       "</div>"
      ],
      "text/plain": [
       "   p_optimal                                               seqs  \\\n",
       "0        100  ATGGTTTCAAAAGGAGAAGAAGATAATATGGCGATAATTAAAGAAT...   \n",
       "1         75  ATGGTTTCAAAAGGAGAAGAAGATAATATGGCGATAATTAAAGAAT...   \n",
       "2         50  ATGGTTTCAAAAGGAGAAGAAGATAATATGGCGATAATTAAAGAAT...   \n",
       "3         25  ATGGTTTCAAAAGGAGAAGAAGATAATATGGCGATAATTAAAGAAT...   \n",
       "\n",
       "   predicted_stability   RNA   protein  \n",
       "0            -0.275257  1.00  1.699052  \n",
       "1            -0.415763  0.84  0.774905  \n",
       "2            -0.518684  0.67  0.335277  \n",
       "3            -0.574982  0.25  0.191280  "
      ]
     },
     "execution_count": 16,
     "metadata": {},
     "output_type": "execute_result"
    }
   ],
   "source": [
    "results"
   ]
  },
  {
   "cell_type": "code",
   "execution_count": 22,
   "metadata": {},
   "outputs": [],
   "source": [
    "results.to_csv(\"results_data/predict_silent_reporters.csv\", index=False)"
   ]
  }
 ],
 "metadata": {
  "kernelspec": {
   "display_name": "Python 3",
   "language": "python",
   "name": "python3"
  },
  "language_info": {
   "codemirror_mode": {
    "name": "ipython",
    "version": 3
   },
   "file_extension": ".py",
   "mimetype": "text/x-python",
   "name": "python",
   "nbconvert_exporter": "python",
   "pygments_lexer": "ipython3",
   "version": "3.6.8"
  }
 },
 "nbformat": 4,
 "nbformat_minor": 2
}
