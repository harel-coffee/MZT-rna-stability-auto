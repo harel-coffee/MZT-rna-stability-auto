{
 "cells": [
  {
   "cell_type": "markdown",
   "metadata": {},
   "source": [
    "## Evaluate Non-Linear Models\n",
    "\n",
    "Here I will test the following Models:\n",
    "\n",
    "+ KNN\n",
    "+ Kernel ridge regression\n",
    "+ Support Vector Machines\n",
    "+ Gaussian Processes\n",
    "\n",
    "I will use the standar preprocessing pipeline."
   ]
  },
  {
   "cell_type": "code",
   "execution_count": 1,
   "metadata": {},
   "outputs": [],
   "source": [
    "import numpy as np\n",
    "import pandas as pd\n",
    "\n",
    "# sklearn imports\n",
    "from sklearn.neighbors import KNeighborsRegressor\n",
    "from sklearn.kernel_ridge import KernelRidge\n",
    "from sklearn.svm import SVR\n",
    "# my module imports\n",
    "from optimalcodon.projects.rnastability.dataprocessing import get_data, general_preprocesing_pipeline\n",
    "from optimalcodon.projects.rnastability import modelevaluation\n"
   ]
  },
  {
   "cell_type": "code",
   "execution_count": 2,
   "metadata": {},
   "outputs": [
    {
     "name": "stdout",
     "output_type": "stream",
     "text": [
      "67817 points for training and 7534 for testing with 6 features\n"
     ]
    }
   ],
   "source": [
    "(train_x, train_y), (test_x, test_y) = get_data(\"../19-04-30-EDA/results_data/\")\n",
    "print(\"{} points for training and {} for testing with {} features\".format(\n",
    "    train_x.shape[0], test_x.shape[0], test_x.shape[1]))"
   ]
  },
  {
   "cell_type": "markdown",
   "metadata": {},
   "source": [
    "*** \n",
    "\n",
    "## Data Pre-processing"
   ]
  },
  {
   "cell_type": "code",
   "execution_count": 3,
   "metadata": {},
   "outputs": [
    {
     "data": {
      "text/plain": [
       "(67817, 80)"
      ]
     },
     "execution_count": 3,
     "metadata": {},
     "output_type": "execute_result"
    }
   ],
   "source": [
    "preprocessing = general_preprocesing_pipeline(train_x)\n",
    "\n",
    "preprocessing.fit(train_x)\n",
    "train_x_transformed = preprocessing.transform(train_x)\n",
    "\n",
    "train_x_transformed.shape"
   ]
  },
  {
   "cell_type": "markdown",
   "metadata": {},
   "source": [
    "***\n",
    "\n",
    "## KNN"
   ]
  },
  {
   "cell_type": "code",
   "execution_count": 4,
   "metadata": {},
   "outputs": [
    {
     "name": "stdout",
     "output_type": "stream",
     "text": [
      "Fitting 3 folds for each of 5 candidates, totalling 15 fits\n"
     ]
    },
    {
     "name": "stderr",
     "output_type": "stream",
     "text": [
      "[Parallel(n_jobs=15)]: Using backend LokyBackend with 15 concurrent workers.\n",
      "[Parallel(n_jobs=15)]: Done   2 out of  15 | elapsed: 19.2min remaining: 124.7min\n",
      "[Parallel(n_jobs=15)]: Done   4 out of  15 | elapsed: 19.5min remaining: 53.5min\n",
      "[Parallel(n_jobs=15)]: Done   6 out of  15 | elapsed: 20.0min remaining: 30.0min\n",
      "[Parallel(n_jobs=15)]: Done   8 out of  15 | elapsed: 20.1min remaining: 17.6min\n",
      "[Parallel(n_jobs=15)]: Done  10 out of  15 | elapsed: 20.2min remaining: 10.1min\n",
      "[Parallel(n_jobs=15)]: Done  12 out of  15 | elapsed: 20.6min remaining:  5.1min\n",
      "[Parallel(n_jobs=15)]: Done  15 out of  15 | elapsed: 20.9min finished\n"
     ]
    },
    {
     "name": "stdout",
     "output_type": "stream",
     "text": [
      "Best Score R2 =  0.23028382142185025\n",
      "Best Parameters:  {'n_neighbors': 7}\n"
     ]
    }
   ],
   "source": [
    "knn_reg = KNeighborsRegressor(weights='distance') # THIS DISTANCE GIVES THE BEST RESULTS\n",
    "\n",
    "knn_grid = dict(\n",
    "    n_neighbors = np.arange(5, 10)\n",
    ")\n",
    "\n",
    "knn_search = modelevaluation.gridsearch(knn_reg, knn_grid, train_x_transformed, train_y, cores=15)"
   ]
  },
  {
   "cell_type": "markdown",
   "metadata": {},
   "source": [
    "***\n",
    "\n",
    "## Kernel Ridge"
   ]
  },
  {
   "cell_type": "code",
   "execution_count": 5,
   "metadata": {},
   "outputs": [
    {
     "name": "stdout",
     "output_type": "stream",
     "text": [
      "Fitting 3 folds for each of 16 candidates, totalling 48 fits\n"
     ]
    },
    {
     "name": "stderr",
     "output_type": "stream",
     "text": [
      "[Parallel(n_jobs=10)]: Using backend LokyBackend with 10 concurrent workers.\n",
      "[Parallel(n_jobs=10)]: Done   5 tasks      | elapsed: 36.2min\n",
      "[Parallel(n_jobs=10)]: Done  12 tasks      | elapsed: 68.7min\n",
      "[Parallel(n_jobs=10)]: Done  21 tasks      | elapsed: 100.4min\n",
      "[Parallel(n_jobs=10)]: Done  34 out of  48 | elapsed: 150.7min remaining: 62.1min\n",
      "[Parallel(n_jobs=10)]: Done  39 out of  48 | elapsed: 165.3min remaining: 38.2min\n",
      "[Parallel(n_jobs=10)]: Done  44 out of  48 | elapsed: 196.9min remaining: 17.9min\n",
      "[Parallel(n_jobs=10)]: Done  48 out of  48 | elapsed: 210.3min finished\n"
     ]
    },
    {
     "name": "stdout",
     "output_type": "stream",
     "text": [
      "Best Score R2 =  0.2886146749972631\n",
      "Best Parameters:  {'alpha': 0.2, 'gamma': 0.01}\n"
     ]
    }
   ],
   "source": [
    "kerRidge_reg = KernelRidge(kernel='rbf', gamma=0.1)\n",
    "kerRidge_grid = {\"alpha\": [0.9, 0.5, 0.2, 0.1],\"gamma\": np.array([1e-03, 1.e-02, 1.e-01, 1.e+0])}\n",
    "\n",
    "kerRidge_search = modelevaluation.gridsearch(kerRidge_reg, kerRidge_grid, train_x_transformed, train_y, cores=10)"
   ]
  },
  {
   "cell_type": "markdown",
   "metadata": {},
   "source": [
    "***\n",
    "## SVM linear kernel"
   ]
  },
  {
   "cell_type": "code",
   "execution_count": 7,
   "metadata": {},
   "outputs": [
    {
     "name": "stdout",
     "output_type": "stream",
     "text": [
      "Fitting 2 folds for each of 6 candidates, totalling 12 fits\n"
     ]
    },
    {
     "name": "stderr",
     "output_type": "stream",
     "text": [
      "[Parallel(n_jobs=20)]: Using backend LokyBackend with 20 concurrent workers.\n",
      "[Parallel(n_jobs=20)]: Done   1 tasks      | elapsed: 10.7min\n",
      "[Parallel(n_jobs=20)]: Done   3 out of  12 | elapsed: 61.9min remaining: 185.7min\n",
      "[Parallel(n_jobs=20)]: Done   5 out of  12 | elapsed: 74.8min remaining: 104.8min\n",
      "[Parallel(n_jobs=20)]: Done   7 out of  12 | elapsed: 224.0min remaining: 160.0min\n",
      "[Parallel(n_jobs=20)]: Done   9 out of  12 | elapsed: 309.1min remaining: 103.0min\n",
      "[Parallel(n_jobs=20)]: Done  12 out of  12 | elapsed: 897.5min finished\n"
     ]
    },
    {
     "name": "stdout",
     "output_type": "stream",
     "text": [
      "Best Score R2 =  0.22691931181966343\n",
      "Best Parameters:  {'C': 10, 'gamma': 0.01, 'kernel': 'rbf'}\n"
     ]
    }
   ],
   "source": [
    "svr_reg = SVR()\n",
    "svr_grid =  {'C': [10, 100, 1000],\n",
    "             'gamma': [0.01, 0.001],\n",
    "             'kernel': ['rbf']},\n",
    "\n",
    "\n",
    "svr_search = modelevaluation.gridsearch(\n",
    "    svr_reg, svr_grid,\n",
    "    train_x_transformed,\n",
    "    train_y, n_splits=2,\n",
    "    cores=20)"
   ]
  },
  {
   "cell_type": "code",
   "execution_count": 9,
   "metadata": {},
   "outputs": [
    {
     "name": "stdout",
     "output_type": "stream",
     "text": [
      "generating predictions for model: knn\n",
      "generating predictions for model: kernel_ridge\n",
      "generating predictions for model: svm\n"
     ]
    }
   ],
   "source": [
    "mymodels = {\n",
    "    'knn': knn_search.best_estimator_,\n",
    "    'kernel_ridge': kerRidge_search.best_estimator_,\n",
    "    'svm': svr_search.best_estimator_\n",
    "}\n",
    "modelevaluation.eval_models(mymodels, preprocessing, test_x, test_y).to_csv(\"results_data/val_non-linearmodels.csv\")"
   ]
  },
  {
   "cell_type": "code",
   "execution_count": 13,
   "metadata": {},
   "outputs": [
    {
     "name": "stdout",
     "output_type": "stream",
     "text": [
      "cv for model: knn\n",
      "cv for model: kernel_ridge\n",
      "cv for model: svm\n"
     ]
    }
   ],
   "source": [
    "# perform cross validation\n",
    "modelevaluation.crossvalidation(\n",
    "    mymodels,\n",
    "    train_x_transformed,\n",
    "    train_y,\n",
    "    n_splits = 5\n",
    ").to_csv('results_data/cv_non-linearmodels.csv', index=False)"
   ]
  }
 ],
 "metadata": {
  "kernelspec": {
   "display_name": "Python 3",
   "language": "python",
   "name": "python3"
  },
  "language_info": {
   "codemirror_mode": {
    "name": "ipython",
    "version": 3
   },
   "file_extension": ".py",
   "mimetype": "text/x-python",
   "name": "python",
   "nbconvert_exporter": "python",
   "pygments_lexer": "ipython3",
   "version": "3.6.7"
  }
 },
 "nbformat": 4,
 "nbformat_minor": 2
}
