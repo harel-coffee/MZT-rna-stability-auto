{
 "cells": [
  {
   "cell_type": "code",
   "execution_count": 15,
   "metadata": {},
   "outputs": [],
   "source": [
    "import numpy as np\n",
    "import pandas as pd\n",
    "from joblib import load\n",
    "from optimalcodon.projects.rnastability.predictuncertainty import predict_seq_with_uncertainty"
   ]
  },
  {
   "cell_type": "code",
   "execution_count": 10,
   "metadata": {},
   "outputs": [
    {
     "data": {
      "text/html": [
       "<div>\n",
       "<style scoped>\n",
       "    .dataframe tbody tr th:only-of-type {\n",
       "        vertical-align: middle;\n",
       "    }\n",
       "\n",
       "    .dataframe tbody tr th {\n",
       "        vertical-align: top;\n",
       "    }\n",
       "\n",
       "    .dataframe thead th {\n",
       "        text-align: right;\n",
       "    }\n",
       "</style>\n",
       "<table border=\"1\" class=\"dataframe\">\n",
       "  <thead>\n",
       "    <tr style=\"text-align: right;\">\n",
       "      <th></th>\n",
       "      <th>Unnamed: 0</th>\n",
       "      <th>seq_id</th>\n",
       "      <th>seqs</th>\n",
       "      <th>predicted_stability_human293t</th>\n",
       "    </tr>\n",
       "  </thead>\n",
       "  <tbody>\n",
       "    <tr>\n",
       "      <th>0</th>\n",
       "      <td>0</td>\n",
       "      <td>neutralGFP</td>\n",
       "      <td>ATGTCAAAAGGAGAAGAACTTTTCACAGGGGTTGTTCCAATACTTG...</td>\n",
       "      <td>-0.096594</td>\n",
       "    </tr>\n",
       "    <tr>\n",
       "      <th>1</th>\n",
       "      <td>1</td>\n",
       "      <td>eGFP</td>\n",
       "      <td>ATGGTGAGCAAGGGCGAGGAGCTGTTCACCGGGGTGGTGCCCATCC...</td>\n",
       "      <td>0.523181</td>\n",
       "    </tr>\n",
       "    <tr>\n",
       "      <th>2</th>\n",
       "      <td>2</td>\n",
       "      <td>supremaGFP</td>\n",
       "      <td>ATGGTGTCTAAAGGCGAGGAGCTGTTCACCGGGGTGGTGCCTATCC...</td>\n",
       "      <td>1.208286</td>\n",
       "    </tr>\n",
       "    <tr>\n",
       "      <th>3</th>\n",
       "      <td>3</td>\n",
       "      <td>infimaGFP</td>\n",
       "      <td>ATGGTTAGTAAAGGCGAAGAACTGTTTACTGGGGTCGTCCCGATTT...</td>\n",
       "      <td>-1.262270</td>\n",
       "    </tr>\n",
       "  </tbody>\n",
       "</table>\n",
       "</div>"
      ],
      "text/plain": [
       "   Unnamed: 0      seq_id                                               seqs  \\\n",
       "0           0  neutralGFP  ATGTCAAAAGGAGAAGAACTTTTCACAGGGGTTGTTCCAATACTTG...   \n",
       "1           1        eGFP  ATGGTGAGCAAGGGCGAGGAGCTGTTCACCGGGGTGGTGCCCATCC...   \n",
       "2           2  supremaGFP  ATGGTGTCTAAAGGCGAGGAGCTGTTCACCGGGGTGGTGCCTATCC...   \n",
       "3           3   infimaGFP  ATGGTTAGTAAAGGCGAAGAACTGTTTACTGGGGTCGTCCCGATTT...   \n",
       "\n",
       "   predicted_stability_human293t  \n",
       "0                      -0.096594  \n",
       "1                       0.523181  \n",
       "2                       1.208286  \n",
       "3                      -1.262270  "
      ]
     },
     "execution_count": 10,
     "metadata": {},
     "output_type": "execute_result"
    }
   ],
   "source": [
    "gfps = pd.read_csv(\"../19-05-23-ProteinOptimization/results_data/gfp_sequences_predictions.csv\")\n",
    "gfps['seqs'] = gfps.seqs.str.upper()\n",
    "gfps"
   ]
  },
  {
   "cell_type": "code",
   "execution_count": 16,
   "metadata": {},
   "outputs": [],
   "source": [
    "## predict stability\n",
    "mdl_params = {'specie': 'human', 'cell_type': '293t', 'datatype': 'endogenous'}\n",
    "modelo = load(\"../../data/19-08-08-PredictiveModelStability/predictivemodel.joblib\")"
   ]
  },
  {
   "cell_type": "code",
   "execution_count": 28,
   "metadata": {},
   "outputs": [],
   "source": [
    "preds = gfps.seqs.apply(predict_seq_with_uncertainty, models=modelo, **mdl_params)\n",
    "gfps['ci_l'] = preds.map(lambda x: x[0])\n",
    "gfps['predictions'] = preds.map(lambda x: x[1])\n",
    "gfps['ci_u'] = preds.map(lambda x: x[2])\n",
    "gfps = gfps.drop(['Unnamed: 0', 'predicted_stability_human293t'], axis=1)"
   ]
  },
  {
   "cell_type": "code",
   "execution_count": 29,
   "metadata": {},
   "outputs": [],
   "source": [
    "gfps.to_csv(\"results_data/gfps_predictions_uncertanty.csv\", index=False)"
   ]
  },
  {
   "cell_type": "markdown",
   "metadata": {},
   "source": [
    "***\n",
    "## Predict Synonimous Reporter"
   ]
  },
  {
   "cell_type": "code",
   "execution_count": null,
   "metadata": {},
   "outputs": [],
   "source": []
  },
  {
   "cell_type": "code",
   "execution_count": null,
   "metadata": {},
   "outputs": [],
   "source": []
  }
 ],
 "metadata": {
  "kernelspec": {
   "display_name": "Python 3",
   "language": "python",
   "name": "python3"
  },
  "language_info": {
   "codemirror_mode": {
    "name": "ipython",
    "version": 3
   },
   "file_extension": ".py",
   "mimetype": "text/x-python",
   "name": "python",
   "nbconvert_exporter": "python",
   "pygments_lexer": "ipython3",
   "version": "3.6.8"
  }
 },
 "nbformat": 4,
 "nbformat_minor": 2
}
