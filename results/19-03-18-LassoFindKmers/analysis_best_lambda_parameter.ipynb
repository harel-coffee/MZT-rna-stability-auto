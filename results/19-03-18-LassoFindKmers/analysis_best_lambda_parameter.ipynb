{
 "cells": [
  {
   "cell_type": "markdown",
   "metadata": {},
   "source": [
    "## Cross Validation Lasso\n",
    "***\n",
    "\n",
    "### Whats is the $\\lambda$ value that maximizes R2?"
   ]
  },
  {
   "cell_type": "code",
   "execution_count": 1,
   "metadata": {},
   "outputs": [],
   "source": [
    "import numpy as np\n",
    "import itertools\n",
    "import pandas as pd\n",
    "from sklearn.linear_model import LassoCV\n",
    "from sklearn.linear_model import Lasso\n",
    "from sklearn.model_selection import KFold\n",
    "from sklearn.model_selection import GridSearchCV\n",
    "from sklearn.metrics import r2_score, make_scorer\n",
    "# import analysis code\n",
    "from lassoloaddata import loadlassodata\n",
    "from lassopath import alphas, get_folds # array with alpha values to test\n",
    "\n",
    "# supress warnings\n",
    "import warnings\n",
    "warnings.filterwarnings('ignore')"
   ]
  },
  {
   "cell_type": "code",
   "execution_count": 4,
   "metadata": {},
   "outputs": [],
   "source": [
    "# ANALYSIS CODE\n",
    "def cv_in_fold_evaluate_lambdas(X, y):\n",
    "    \"\"\"\n",
    "    Args:\n",
    "        X -> predictors (scaled)\n",
    "        y -> response\n",
    "    Returns:\n",
    "        pd.DataFrame with cross validation results\n",
    "    NOTE: we are doing cross validation inside cross validation data\n",
    "    \"\"\"\n",
    "    # define the grid search\n",
    "    lasso = Lasso(random_state=42)\n",
    "    tuned_params = dict(alpha=alphas)\n",
    "    n_folds = 3\n",
    "    # we are using 30 cores!! (this function should be run sequentially)\n",
    "    clf = GridSearchCV(lasso, tuned_params, cv=n_folds,n_jobs=30, scoring=make_scorer(r2_score))\n",
    "    clf.fit(X, y)\n",
    "    return pd.DataFrame(clf.cv_results_)\n",
    "    \n",
    "def runanalysis_cv_params(rna_protocol='wt_ribo', keepmir=True):\n",
    "    \"\"\"\n",
    "    runs the analysis to get the lasso path in the given data\n",
    "    \"\"\"\n",
    "    predictors, response = loadlassodata(rna_protocol)\n",
    "    mirstatus = \"all_genes\" if keepmir else \"no_mir_genes\"\n",
    "    # remove MiR-430 genes\n",
    "    if not keepmir:\n",
    "        no_mir_genes = predictors['GCACTT'] == 0 # 0 6-mer MiR-430 sites\n",
    "        predictors = predictors[no_mir_genes]\n",
    "        response = response[no_mir_genes]\n",
    "    \n",
    "    # run the lasso with 6 folds, the predictors are scaled\n",
    "    print('runing analysis for {} genes'.format(predictors.shape[0]))\n",
    "    folds = get_folds(predictors, response, k=6)\n",
    "    results = []\n",
    "    for i, fold_data in enumerate(folds):\n",
    "        print('runing fold {} of 6'.format(i + 1))\n",
    "        (X, y), leave_out = fold_data\n",
    "        fold_res = cv_in_fold_evaluate_lambdas(X, y)\n",
    "        fold_res['kfold'] = i\n",
    "        results.append(fold_res)\n",
    "    # add param to frame\n",
    "    results = pd.concat(results)\n",
    "    results['sample_condition'] = rna_protocol\n",
    "    results['which_genes'] = mirstatus\n",
    "    return results"
   ]
  },
  {
   "cell_type": "code",
   "execution_count": 5,
   "metadata": {},
   "outputs": [
    {
     "name": "stdout",
     "output_type": "stream",
     "text": [
      "runing wt_ribo with mir case True\n",
      "runing analysis for 4729 genes\n",
      "runing fold 0 of 6\n",
      "runing fold 1 of 6\n",
      "runing fold 2 of 6\n",
      "runing fold 3 of 6\n",
      "runing fold 4 of 6\n",
      "runing fold 5 of 6\n",
      "runing wt_ribo with mir case False\n",
      "runing analysis for 3349 genes\n",
      "runing fold 0 of 6\n",
      "runing fold 1 of 6\n",
      "runing fold 2 of 6\n",
      "runing fold 3 of 6\n",
      "runing fold 4 of 6\n",
      "runing fold 5 of 6\n",
      "runing wt_polya with mir case True\n",
      "runing analysis for 4729 genes\n",
      "runing fold 0 of 6\n",
      "runing fold 1 of 6\n",
      "runing fold 2 of 6\n",
      "runing fold 3 of 6\n",
      "runing fold 4 of 6\n",
      "runing fold 5 of 6\n",
      "runing wt_polya with mir case False\n",
      "runing analysis for 3349 genes\n",
      "runing fold 0 of 6\n",
      "runing fold 1 of 6\n",
      "runing fold 2 of 6\n",
      "runing fold 3 of 6\n",
      "runing fold 4 of 6\n",
      "runing fold 5 of 6\n"
     ]
    }
   ],
   "source": [
    "results = []\n",
    "for cond, mircase in itertools.product((\"wt_ribo\", \"wt_polya\"), (True, False)):\n",
    "    print('runing {} with mir case {}'.format(cond, mircase))\n",
    "    results.append(runanalysis_cv_params(cond, mircase))\n",
    "    "
   ]
  },
  {
   "cell_type": "code",
   "execution_count": 8,
   "metadata": {},
   "outputs": [],
   "source": [
    "pd.concat(results).to_csv('results_data/lasso_cross_val_params.csv')"
   ]
  }
 ],
 "metadata": {
  "kernelspec": {
   "display_name": "Python 3",
   "language": "python",
   "name": "python3"
  },
  "language_info": {
   "codemirror_mode": {
    "name": "ipython",
    "version": 3
   },
   "file_extension": ".py",
   "mimetype": "text/x-python",
   "name": "python",
   "nbconvert_exporter": "python",
   "pygments_lexer": "ipython3",
   "version": "3.6.7"
  }
 },
 "nbformat": 4,
 "nbformat_minor": 2
}
