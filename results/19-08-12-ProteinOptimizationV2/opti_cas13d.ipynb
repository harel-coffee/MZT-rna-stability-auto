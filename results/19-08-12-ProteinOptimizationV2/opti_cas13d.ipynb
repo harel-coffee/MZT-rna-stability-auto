{
 "cells": [
  {
   "cell_type": "markdown",
   "metadata": {},
   "source": [
    "## De-optimize cas13d\n",
    "\n",
    "***"
   ]
  },
  {
   "cell_type": "code",
   "execution_count": 72,
   "metadata": {},
   "outputs": [],
   "source": [
    "import pandas as pd\n",
    "from joblib import load\n",
    "from optimalcodon.seqoptimization.optimization import optimization\n",
    "from optimalcodon.projects.rnastability.predictuncertainty import predict_seq_with_uncertainty\n",
    "from optimalcodon.seqoptimization.mutate import translate"
   ]
  },
  {
   "cell_type": "code",
   "execution_count": 4,
   "metadata": {},
   "outputs": [],
   "source": [
    "modelo = load(\"../../data/19-08-08-PredictiveModelStability/predictivemodel.joblib\")"
   ]
  },
  {
   "cell_type": "code",
   "execution_count": 5,
   "metadata": {},
   "outputs": [],
   "source": [
    "# cas13d sequence\n",
    "seq = \"ATGGcgagcgaggccagcatcgaaaaaaaaaagtccttcgccaagggcatgggcgtgaagtccacactcgtgtccggctccaaagtgtacatgacaaccttcgccgaaggcagcgacgccaggctggaaaagatcgtggagggcgacagcatcaggagcgtgaatgagggcgaggccttcagcgctgaaatggccgataaaaacgccggctataagatcggcaacgccaaattcagccatcctaagggctacgccgtggtggctaacaaccctctgtatacaggacccgtccagcaggatatgctcggcctgaaggaaactctggaaaagaggtacttcggcgagagcgctgatggcaatgacaatatttgtatccaggtgatccataacatcctggacattgaaaaaatcctcgccgaatacattaccaacgccgcctacgccgtcaacaatatctccggcctggataaggacattattggattcggcaagttctccacagtgtatacctacgacgaattcaaagaccccgagcaccatagggccgctttcaacaataacgataagctcatcaacgccatcaaggcccagtatgacgagttcgacaacttcctcgataaccccagactcggctatttcggccaggcctttttcagcaaggagggcagaaattacatcatcaattacggcaacgaatgctatgacattctggccctcctgagcggactgaggcactgggtggtccataacaacgaagaagagtccaggatctccaggacctggctctacaacctcgataagaacctcgacaacgaatacatctccaccctcaactacctctacgacaggatcaccaatgagctgaccaactccttctccaagaactccgccgccaacgtgaactatattgccgaaactctgggaatcaaccctgccgaattcgccgaacaatatttcagattcagcattatgaaagagcagaaaaacctcggattcaatatcaccaagctcagggaagtgatgctggacaggaaggatatgtccgagatcaggaaaaatcataaggtgttcgactccatcaggaccaaggtctacaccatgatggactttgtgatttataggtattacatcgaagaggatgccaaggtggctgccgccaataagtccctccccgataatgagaagtccctgagcgagaaggatatctttgtgattaacctgaggggctccttcaacgacgaccagaaggatgccctctactacgatgaagctaatagaatttggagaaagctcgaaaatatcatgcacaacatcaaggaatttaggggaaacaagacaagagagtataagaagaaggacgcccctagactgcccagaatcctgcccgctggccgtgatgtttccgccttcagcaaactcatgtatgccctgaccatgttcctggatggcaaggagatcaacgacctcctgaccaccctgattaataaattcgataacatccagagcttcctgaaggtgatgcctctcatcggagtcaacgctaagttcgtggaggaatacgcctttttcaaagactccgccaagatcgccgatgagctgaggctgatcaagtccttcgctagaatgggagaacctattgccgatgccaggagggccatgtatatcgacgccatccgtattttaggaaccaacctgtcctatgatgagctcaaggccctcgccgacaccttttccctggacgagaacggaaacaagctcaagaaaggcaagcacggcatgagaaatttcattattaataacgtgatcagcaataaaaggttccactacctgatcagatacggtgatcctgcccacctccatgagatcgccaaaaacgaggccgtggtgaagttcgtgctcggcaggatcgctgacatccagaaaaaacagggccagaacggcaagaaccagatcgacaggtactacgaaacttgtatcggaaaggataagggcaagagcgtgagcgaaaaggtggacgctctcacaaagatcatcaccggaatgaactacgaccaattcgacaagaaaaggagcgtcattgaggacaccggcagggaaaacgccgagagggagaagtttaaaaagatcatcagcctgtacctcaccgtgatctaccacatcctcaagaatattgtcaatatcaacgccaggtacgtcatcggattccattgcgtcgagcgtgatgctcaactgtacaaggagaaaggctacgacatcaatctcaagaaactggaagagaagggattcagctccgtcaccaagctctgcgctggcattgatgaaactgcccccgataagagaaaggacgtggaaaaggagatggctgaaagagccaaggagagcattgacagcctcgagagcgccaaccccaagctgtatgccaattacatcaaatacagcgacgagaagaaagccgaggagttcaccaggcagattaacagggagaaggccaaaaccgccctgaacgcctacctgaggaacaccaagtggaatgtgatcatcagggaggacctcctgagaattgacaacaagacatgtaccctgttcagaaacaaggccgtccacctggaagtggccaggtatgtccacgcctatatcaacgacattgccgaggtcaattcctacttccaactgtaccattacatcatgcagagaattatcatgaatgagaggtacgagaaaagcagcggaaaggtgtccgagtacttcgacgctgtgaatgacgagaagaagtacaacgataggctcctgaaactgctgtgtgtgcctttcggctactgtatccccaggtttaagaacctgagcatcgaggccctgttcgataggaacgaggccgccaagttcgacaaggagaaaaagaaggtgtccggcaattccggatccggagcggccgcttacccatacgatgttccagattacgcttaa\"\n",
    "seq = seq.lower()"
   ]
  },
  {
   "cell_type": "markdown",
   "metadata": {},
   "source": [
    "I mutate the following sequences:\n",
    "\n",
    "1. All the possible mutations\n",
    "2. mutations in the las half (restriction sites excluded)"
   ]
  },
  {
   "cell_type": "code",
   "execution_count": 10,
   "metadata": {},
   "outputs": [],
   "source": [
    "# define the regions to mutate\n",
    "# I cannot mutate the restriction sites\n",
    "region1 = list(range(seq.find('ctcgccgacac') // 3, seq.find('gagagcattga') // 3))\n",
    "region2 = list(range(seq.find('ccaagctgtat') // 3, seq.find('ggtgtccg') // 3))\n",
    "wholerange = list(range(0, len(seq) // 3))\n",
    "\n",
    "invalid1 = [] # every position can be mutated\n",
    "\n",
    "invalid2 = [x for x in wholerange if x not in region1 + region2]"
   ]
  },
  {
   "cell_type": "code",
   "execution_count": 11,
   "metadata": {},
   "outputs": [],
   "source": [
    "# the model parameters\n",
    "mdl_params = {'specie': 'fish', 'cell_type': 'embryo mzt',\n",
    "              'datatype': 'aamanitin polya'}\n"
   ]
  },
  {
   "cell_type": "code",
   "execution_count": 8,
   "metadata": {},
   "outputs": [
    {
     "name": "stdout",
     "output_type": "stream",
     "text": [
      "runing iteration 1 of 30\n",
      "selection from 2001 sequences\n",
      "runing iteration 2 of 30\n",
      "selection from 2001 sequences\n",
      "runing iteration 3 of 30\n",
      "selection from 2001 sequences\n",
      "runing iteration 4 of 30\n",
      "selection from 2001 sequences\n",
      "runing iteration 5 of 30\n",
      "selection from 2001 sequences\n",
      "runing iteration 6 of 30\n",
      "selection from 2001 sequences\n",
      "runing iteration 7 of 30\n",
      "selection from 2001 sequences\n",
      "runing iteration 8 of 30\n",
      "selection from 2001 sequences\n",
      "runing iteration 9 of 30\n",
      "selection from 2001 sequences\n",
      "runing iteration 10 of 30\n",
      "selection from 2001 sequences\n",
      "runing iteration 11 of 30\n",
      "selection from 2001 sequences\n",
      "runing iteration 12 of 30\n",
      "selection from 2001 sequences\n",
      "runing iteration 13 of 30\n",
      "selection from 2001 sequences\n",
      "runing iteration 14 of 30\n",
      "selection from 2000 sequences\n",
      "runing iteration 15 of 30\n",
      "selection from 2001 sequences\n",
      "runing iteration 16 of 30\n",
      "selection from 2001 sequences\n",
      "runing iteration 17 of 30\n",
      "selection from 2001 sequences\n",
      "runing iteration 18 of 30\n",
      "selection from 2001 sequences\n",
      "runing iteration 19 of 30\n",
      "selection from 2001 sequences\n",
      "runing iteration 20 of 30\n",
      "selection from 2001 sequences\n",
      "runing iteration 21 of 30\n",
      "selection from 2001 sequences\n",
      "runing iteration 22 of 30\n",
      "selection from 2001 sequences\n",
      "runing iteration 23 of 30\n",
      "selection from 2000 sequences\n",
      "runing iteration 24 of 30\n",
      "selection from 2001 sequences\n",
      "runing iteration 25 of 30\n",
      "selection from 2001 sequences\n",
      "runing iteration 26 of 30\n",
      "selection from 2001 sequences\n",
      "runing iteration 27 of 30\n",
      "selection from 2001 sequences\n",
      "runing iteration 28 of 30\n",
      "selection from 2001 sequences\n",
      "runing iteration 29 of 30\n",
      "selection from 2001 sequences\n",
      "runing iteration 30 of 30\n",
      "selection from 2001 sequences\n"
     ]
    },
    {
     "data": {
      "text/plain": [
       "'ATGGCTAGCGAGGCCAGCATCGAAAAAAAAAAGTCCTTCGCCAAGGGCATGGGCGTGAAGTCCACCCTCGTGTCCGGCTCCAAGGTGTACATGACAACATTCGCCGAAGGCAGCGACGCCAGGCTGGAAAAAATCGTGGAGGGCGACAGCATCAGAAGCGTGAATGAGGGCGAGGCCTTCAGCGCTGAAATGGCCGATAAAAACGCCGGCTATAAGATCGGCAACGCCAAATTCAGCCATCCTAAGGGGTACGCCGTGGTGGCTAACAACCCCCTGTATACAGGACCTGTCCAGCAGGATATGCTCGGCCTGAAGGAAACTCTGGAGAAGAGGTACTTCGGCGAAAGCGCCGATGGCAATGACAATATTTGTATCCAGGTGATCCACAACATCCTGGACATTGAAAAAATCCTCGCCGAATACATTACCAATGCCGCCTACGCAGTAAATAATATCTCCGGCCTGGATAAGGACATTATTGGATTCGGCAAGTTCTCCACAGTGTATACCTACGACGAATTCAAAGACCCCGAGCACCATAGGGCCGCATTCAACAATAACGATAAGCTCATCAACGCCATCAAGGCCCAGTATGACGAGTTCGACAACTTCCTCGATAACCCCAGACTCGGCTATTTCGGCCAGGCCTTTTTCAGCAAGGAGGGCAGAAATTACATTATCAATTACGGCAACGAATGTTATGACATACTGGCCCTCCTGAGCGGACTGCGGCACTGGGTGGTCCACAACAACGAGGAAGAGTCCAGGATCTCCAGGACCTGGCTCTACAACCTCGATAAGAACCTCGACAATGAATACATCTCCACTCTCAACTACCTCTACGACAGGATTACCAATGAGCTGACCAACTCCTTCAGCAAGAACTCCGCCGCCAACGTGAACTATATTGCCGAGACTCTGGGAATCAACCCTGCCGAATTTGCCGAACAATATTTCAGATTCAGCATTATGAAAGAACAAAAAAACCTCGGCTTCAATATCACCAAACTCAGGGAAGTGATGCTGGACAGGAAGGATATGTCCGAAATCAGGAAAAATCATAAGGTGTTCGACTCTATCCGAACCAAGGTCTACACCATGATGGACTTTGTGATTTATAGGTACTACATCGAAGAGGATGCCAAGGTGGCTGCCGCCAATAAGTCTCTCCCTGATAATGAGAAGTCCCTGAGCGAAAAGGATATCTTCGTGATTAACCTCCGGGGCTCCTTCAACGACGACCAGAAGGATGCCCTCTACTACGATGAAGCTAATAGAATTTGGAGAAAGCTCGAGAATATCATGCACAATATCAAGGAATTTAGGGGAAACAAGACAAGAGAGTACAAGAAGAAGGACGCCCCTAGGCTGCCCAGAATCCTGCCTGCCGGCCGAGATGTCTCCGCCTTCAGCAAACTCATGTACGCCCTGACCATGTTCCTGGATGGCAAGGAGATCAACGACCTCCTCACCACCCTGATCAATAAATTCGATAACATCCAGTCATTTCTGAAGGTAATGCCTCTCATCGGAGTCAACGCTAAGTTCGTGGAGGAATATGCCTTCTTCAAAGACTCCGCCAAGATCGCCGATGAGCTGAGGCTGATCAAGTCCTTCGCTAGAATGGGAGAACCTATTGCCGATGCCAGGAGGGCCATGTATATCGACGCCATCAGGATTTTAGGAACCAACTTATCCTACGATGAGCTCAAGGCCCTCGCCGACACCTTCTCCCTGGACGAGAATGGAAACAAGCTTAAGAAAGGCAAGCACGGCATGCGTAATTTTATTATCAATAACGTGATCAGCAATAAAAGGTTCCACTACCTGATCAGATACGGTGATCCTGCCCACCTCCATGAGATCGCCAAAAACGAGGCCGTGGTGAAGTTTGTGCTCGGCAGGATTGCTGACATCCAAAAAAAACAGGGCCAGAACGGCAAGAACCAGATCGACAGGTACTACGAAACTTGTATCGGAAAGGATAAGGGCAAGAGCGTGAGCGAAAAGGTGGACGCTCTCACAAAAATCATCACCGGTATGAACTACGACCAATTCGACAAGAAAAGGAGCGTGATTGAGGACACCGGCAGGGAAAACGCCGAGAGGGAAAAGTTTAAAAAGATCATCAGCCTGTACTTAACCGTGATCTACCACATCTTAAAGAATATTGTCAATATCAACGCCAGGTACGTCATCGGATTCCATTGTGTCGAGCGTGATGCTCAACTGTACAAGGAGAAAGGCTACGACATCAATCTCAAGAAACTGGAGGAGAAGGGATTCAGCTCGGTGACCAAGCTCTGCGCTGGCATTGATGAAACTGCCCCCGACAAAAGAAAGGACGTGGAAAAGGAGATGGCCGAAAGAGCCAAGGAGAGCATTGACAGCCTCGAGAGCGCCAACCCCAAGCTGTACGCCAATTACATCAAGTACAGCGACGAGAAGAAAGCCGAGGAGTTCACCCGACAGATTAATAGGGAGAAGGCCAAAACGGCCTTAAACGCCTACCTGAGGAACACCAAGTGGAATGTGATCATCAGGGAGGACCTCCTGAGAATTGACAACAAGACATGTACCCTGTTCAGAAACAAGGCCGTCCACCTGGAAGTGGCCAGGTATGTGCACGCCTATATCAACGACATTGCCGAGGTAAACTCCTACTTCCAACTGTACCATTACATCATGCAGAGAATTATCATGAATGAAAGGTACGAGAAAAGCAGCGGAAAGGTGTCCGAGTACTTCGACGCTGTGAATGACGAGAAGAAGTACAATGATAGGTTGCTTAAGCTGCTGTGTGTGCCGTTCGGCTACTGTATCCCCAGGTTTAAGAACCTGAGCATCGAGGCCCTGTTCGATAGGAACGAGGCCGCCAAGTTCGACAAGGAGAAGAAGAAGGTGTCCGGCAATTCCGGATCCGGAGCGGCCGCTTACCCATACGATGTTCCAGATTACGCTTAA'"
      ]
     },
     "execution_count": 8,
     "metadata": {},
     "output_type": "execute_result"
    }
   ],
   "source": [
    "optimization(seq, [], optimization=False, model=modelo, outdir='results_data/', outname='deoptimizationCas13d_allregion', **mdl_params)"
   ]
  },
  {
   "cell_type": "code",
   "execution_count": 12,
   "metadata": {},
   "outputs": [
    {
     "name": "stdout",
     "output_type": "stream",
     "text": [
      "runing iteration 1 of 30\n",
      "selection from 2001 sequences\n",
      "runing iteration 2 of 30\n",
      "selection from 2001 sequences\n",
      "runing iteration 3 of 30\n",
      "selection from 2001 sequences\n",
      "runing iteration 4 of 30\n",
      "selection from 2001 sequences\n",
      "runing iteration 5 of 30\n",
      "selection from 2001 sequences\n",
      "runing iteration 6 of 30\n",
      "selection from 2001 sequences\n",
      "runing iteration 7 of 30\n",
      "selection from 2001 sequences\n",
      "runing iteration 8 of 30\n",
      "selection from 2001 sequences\n",
      "runing iteration 9 of 30\n",
      "selection from 2001 sequences\n",
      "runing iteration 10 of 30\n",
      "selection from 2001 sequences\n",
      "runing iteration 11 of 30\n",
      "selection from 2001 sequences\n",
      "runing iteration 12 of 30\n",
      "selection from 2001 sequences\n",
      "runing iteration 13 of 30\n",
      "selection from 2001 sequences\n",
      "runing iteration 14 of 30\n",
      "selection from 2001 sequences\n",
      "runing iteration 15 of 30\n",
      "selection from 2001 sequences\n",
      "runing iteration 16 of 30\n",
      "selection from 2001 sequences\n",
      "runing iteration 17 of 30\n",
      "selection from 2001 sequences\n",
      "runing iteration 18 of 30\n",
      "selection from 2001 sequences\n",
      "runing iteration 19 of 30\n",
      "selection from 2001 sequences\n",
      "runing iteration 20 of 30\n",
      "selection from 2001 sequences\n",
      "runing iteration 21 of 30\n",
      "selection from 2001 sequences\n",
      "runing iteration 22 of 30\n",
      "selection from 2001 sequences\n",
      "runing iteration 23 of 30\n",
      "selection from 2000 sequences\n",
      "runing iteration 24 of 30\n",
      "selection from 2001 sequences\n",
      "runing iteration 25 of 30\n",
      "selection from 1997 sequences\n",
      "runing iteration 26 of 30\n",
      "selection from 1968 sequences\n",
      "runing iteration 27 of 30\n",
      "selection from 1927 sequences\n",
      "runing iteration 28 of 30\n",
      "selection from 1974 sequences\n",
      "runing iteration 29 of 30\n",
      "selection from 1943 sequences\n",
      "runing iteration 30 of 30\n",
      "selection from 1990 sequences\n"
     ]
    },
    {
     "data": {
      "text/plain": [
       "'ATGGCGAGCGAGGCCAGCATCGAAAAAAAAAAGTCCTTCGCCAAGGGCATGGGCGTGAAGTCCACACTCGTGTCCGGCTCCAAAGTGTACATGACAACCTTCGCCGAAGGCAGCGACGCCAGGCTGGAAAAGATCGTGGAGGGCGACAGCATCAGGAGCGTGAATGAGGGCGAGGCCTTCAGCGCTGAAATGGCCGATAAAAACGCCGGCTATAAGATCGGCAACGCCAAATTCAGCCATCCTAAGGGCTACGCCGTGGTGGCTAACAACCCTCTGTATACAGGACCCGTCCAGCAGGATATGCTCGGCCTGAAGGAAACTCTGGAAAAGAGGTACTTCGGCGAGAGCGCTGATGGCAATGACAATATTTGTATCCAGGTGATCCATAACATCCTGGACATTGAAAAAATCCTCGCCGAATACATTACCAACGCCGCCTACGCCGTCAACAATATCTCCGGCCTGGATAAGGACATTATTGGATTCGGCAAGTTCTCCACAGTGTATACCTACGACGAATTCAAAGACCCCGAGCACCATAGGGCCGCTTTCAACAATAACGATAAGCTCATCAACGCCATCAAGGCCCAGTATGACGAGTTCGACAACTTCCTCGATAACCCCAGACTCGGCTATTTCGGCCAGGCCTTTTTCAGCAAGGAGGGCAGAAATTACATCATCAATTACGGCAACGAATGCTATGACATTCTGGCCCTCCTGAGCGGACTGAGGCACTGGGTGGTCCATAACAACGAAGAAGAGTCCAGGATCTCCAGGACCTGGCTCTACAACCTCGATAAGAACCTCGACAACGAATACATCTCCACCCTCAACTACCTCTACGACAGGATCACCAATGAGCTGACCAACTCCTTCTCCAAGAACTCCGCCGCCAACGTGAACTATATTGCCGAAACTCTGGGAATCAACCCTGCCGAATTCGCCGAACAATATTTCAGATTCAGCATTATGAAAGAGCAGAAAAACCTCGGATTCAATATCACCAAGCTCAGGGAAGTGATGCTGGACAGGAAGGATATGTCCGAGATCAGGAAAAATCATAAGGTGTTCGACTCCATCAGGACCAAGGTCTACACCATGATGGACTTTGTGATTTATAGGTATTACATCGAAGAGGATGCCAAGGTGGCTGCCGCCAATAAGTCCCTCCCCGATAATGAGAAGTCCCTGAGCGAGAAGGATATCTTTGTGATTAACCTGAGGGGCTCCTTCAACGACGACCAGAAGGATGCCCTCTACTACGATGAAGCTAATAGAATTTGGAGAAAGCTCGAAAATATCATGCACAACATCAAGGAATTTAGGGGAAACAAGACAAGAGAGTATAAGAAGAAGGACGCCCCTAGACTGCCCAGAATCCTGCCCGCTGGCCGTGATGTTTCCGCCTTCAGCAAACTCATGTATGCCCTGACCATGTTCCTGGATGGCAAGGAGATCAACGACCTCCTGACCACCCTGATTAATAAATTCGATAACATCCAGAGCTTCCTGAAGGTGATGCCTCTCATCGGAGTCAACGCTAAGTTCGTGGAGGAATACGCCTTTTTCAAAGACTCCGCCAAGATCGCCGATGAGCTGAGGCTGATCAAGTCCTTCGCTAGAATGGGAGAACCTATTGCCGATGCCAGGAGGGCCATGTATATCGACGCCATCCGTATTTTAGGAACCAACCTGTCCTATGATGAGCTCAAGGCCCTCGCCGACACCTTTTCCCTGGACGAGAACGGAAACAAGCTCAAGAAAGGCAAGCACGGCATGCGGAATTTCATTATTAATAATGTGATCAGCAATAAAAGGTTCCACTACCTGATCAGATACGGCGACCCGGCTCACCTGCACGAGATCGCCAAAAACGAGGCCGTGGTGAAGTTCGTGCTCGGCAGGATCGCAGACATACAGAAAAAACAGGGCCAGAACGGCAAGAACCAGATTGACAGGTACTACGAAACCTGTATCGGCAAGGATAAGGGCAAGAGCGTGTCAGAAAAGGTGGACGCCCTCACTAAGATTATCACTGGAATGAACTACGACCAGTTCGACAAGAAAAGGAGCGTGATTGAGGACACCGGCAGGGAAAATGCCGAGAGGGAGAAGTTTAAAAAGATCATCAGCCTGTACCTCACCGTGATCTACCACATCCTCAAGAATATTGTTAATATCAATGCCAGGTACGTTATCGGCTTCCATTGTGTGGAGAGAGATGCCCAACTGTACAAGGAGAAAGGCTACGACATCAATCTCAAGAAACTGGAAGAGAAGGGATTCAGCTCAGTTACCAAGCTCTGTGCTGGCATCGATGAAACGGCCCCCGATAAGCGAAAGGACGTGGAAAAGGAGATGGCCGAACGAGCCAAGGAGAGCATTGACAGCCTCGAGAGCGCCAACCCCAAGCTGTATGCCAATTACATCAAATACAGCGACGAGAAGAAAGCCGAGGAGTTCACCAGGCAGATTAATAGGGAGAAGGCCAAAACCGCCCTGAACGCCTACCTGAGGAATACCAAGTGGAATGTGATCATCAGAGAGGACCTCCTGAGAATTGACAACAAGACATGTACCCTCTTCAGGAACAAGGCCGTCCACCTGGAAGTGGCCAGGTATGTTCACGCCTACATCAACGACATTGCCGAGGTCAATAGCTACTTTCAACTGTACCATTACATCATGCAGAGAATTATCATGAATGAGAGGTACGAGAAAAGCTCAGGAAAGGTGTCCGAGTACTTCGACGCTGTGAATGACGAGAAGAAGTACAACGATAGGCTCCTGAAACTGCTGTGTGTGCCTTTCGGCTACTGTATCCCCAGGTTTAAGAACCTGAGCATCGAGGCCCTGTTCGATAGGAACGAGGCCGCCAAGTTCGACAAGGAGAAAAAGAAGGTGTCCGGCAATTCCGGATCCGGAGCGGCCGCTTACCCATACGATGTTCCAGATTACGCTTAA'"
      ]
     },
     "execution_count": 12,
     "metadata": {},
     "output_type": "execute_result"
    }
   ],
   "source": [
    "optimization(seq, invalid2, optimization=False, model=modelo, outdir='results_data/', outname='deoptimizationCas13d_2ndhalf', **mdl_params)"
   ]
  },
  {
   "cell_type": "code",
   "execution_count": 14,
   "metadata": {},
   "outputs": [],
   "source": [
    "best_2nd = 'ATGGCGAGCGAGGCCAGCATCGAAAAAAAAAAGTCCTTCGCCAAGGGCATGGGCGTGAAGTCCACACTCGTGTCCGGCTCCAAAGTGTACATGACAACCTTCGCCGAAGGCAGCGACGCCAGGCTGGAAAAGATCGTGGAGGGCGACAGCATCAGGAGCGTGAATGAGGGCGAGGCCTTCAGCGCTGAAATGGCCGATAAAAACGCCGGCTATAAGATCGGCAACGCCAAATTCAGCCATCCTAAGGGCTACGCCGTGGTGGCTAACAACCCTCTGTATACAGGACCCGTCCAGCAGGATATGCTCGGCCTGAAGGAAACTCTGGAAAAGAGGTACTTCGGCGAGAGCGCTGATGGCAATGACAATATTTGTATCCAGGTGATCCATAACATCCTGGACATTGAAAAAATCCTCGCCGAATACATTACCAACGCCGCCTACGCCGTCAACAATATCTCCGGCCTGGATAAGGACATTATTGGATTCGGCAAGTTCTCCACAGTGTATACCTACGACGAATTCAAAGACCCCGAGCACCATAGGGCCGCTTTCAACAATAACGATAAGCTCATCAACGCCATCAAGGCCCAGTATGACGAGTTCGACAACTTCCTCGATAACCCCAGACTCGGCTATTTCGGCCAGGCCTTTTTCAGCAAGGAGGGCAGAAATTACATCATCAATTACGGCAACGAATGCTATGACATTCTGGCCCTCCTGAGCGGACTGAGGCACTGGGTGGTCCATAACAACGAAGAAGAGTCCAGGATCTCCAGGACCTGGCTCTACAACCTCGATAAGAACCTCGACAACGAATACATCTCCACCCTCAACTACCTCTACGACAGGATCACCAATGAGCTGACCAACTCCTTCTCCAAGAACTCCGCCGCCAACGTGAACTATATTGCCGAAACTCTGGGAATCAACCCTGCCGAATTCGCCGAACAATATTTCAGATTCAGCATTATGAAAGAGCAGAAAAACCTCGGATTCAATATCACCAAGCTCAGGGAAGTGATGCTGGACAGGAAGGATATGTCCGAGATCAGGAAAAATCATAAGGTGTTCGACTCCATCAGGACCAAGGTCTACACCATGATGGACTTTGTGATTTATAGGTATTACATCGAAGAGGATGCCAAGGTGGCTGCCGCCAATAAGTCCCTCCCCGATAATGAGAAGTCCCTGAGCGAGAAGGATATCTTTGTGATTAACCTGAGGGGCTCCTTCAACGACGACCAGAAGGATGCCCTCTACTACGATGAAGCTAATAGAATTTGGAGAAAGCTCGAAAATATCATGCACAACATCAAGGAATTTAGGGGAAACAAGACAAGAGAGTATAAGAAGAAGGACGCCCCTAGACTGCCCAGAATCCTGCCCGCTGGCCGTGATGTTTCCGCCTTCAGCAAACTCATGTATGCCCTGACCATGTTCCTGGATGGCAAGGAGATCAACGACCTCCTGACCACCCTGATTAATAAATTCGATAACATCCAGAGCTTCCTGAAGGTGATGCCTCTCATCGGAGTCAACGCTAAGTTCGTGGAGGAATACGCCTTTTTCAAAGACTCCGCCAAGATCGCCGATGAGCTGAGGCTGATCAAGTCCTTCGCTAGAATGGGAGAACCTATTGCCGATGCCAGGAGGGCCATGTATATCGACGCCATCCGTATTTTAGGAACCAACCTGTCCTATGATGAGCTCAAGGCCCTCGCCGACACCTTTTCCCTGGACGAGAACGGAAACAAGCTCAAGAAAGGCAAGCACGGCATGCGGAATTTCATTATTAATAATGTGATCAGCAATAAAAGGTTCCACTACCTGATCAGATACGGCGACCCGGCTCACCTGCACGAGATCGCCAAAAACGAGGCCGTGGTGAAGTTCGTGCTCGGCAGGATCGCAGACATACAGAAAAAACAGGGCCAGAACGGCAAGAACCAGATTGACAGGTACTACGAAACCTGTATCGGCAAGGATAAGGGCAAGAGCGTGTCAGAAAAGGTGGACGCCCTCACTAAGATTATCACTGGAATGAACTACGACCAGTTCGACAAGAAAAGGAGCGTGATTGAGGACACCGGCAGGGAAAATGCCGAGAGGGAGAAGTTTAAAAAGATCATCAGCCTGTACCTCACCGTGATCTACCACATCCTCAAGAATATTGTTAATATCAATGCCAGGTACGTTATCGGCTTCCATTGTGTGGAGAGAGATGCCCAACTGTACAAGGAGAAAGGCTACGACATCAATCTCAAGAAACTGGAAGAGAAGGGATTCAGCTCAGTTACCAAGCTCTGTGCTGGCATCGATGAAACGGCCCCCGATAAGCGAAAGGACGTGGAAAAGGAGATGGCCGAACGAGCCAAGGAGAGCATTGACAGCCTCGAGAGCGCCAACCCCAAGCTGTATGCCAATTACATCAAATACAGCGACGAGAAGAAAGCCGAGGAGTTCACCAGGCAGATTAATAGGGAGAAGGCCAAAACCGCCCTGAACGCCTACCTGAGGAATACCAAGTGGAATGTGATCATCAGAGAGGACCTCCTGAGAATTGACAACAAGACATGTACCCTCTTCAGGAACAAGGCCGTCCACCTGGAAGTGGCCAGGTATGTTCACGCCTACATCAACGACATTGCCGAGGTCAATAGCTACTTTCAACTGTACCATTACATCATGCAGAGAATTATCATGAATGAGAGGTACGAGAAAAGCTCAGGAAAGGTGTCCGAGTACTTCGACGCTGTGAATGACGAGAAGAAGTACAACGATAGGCTCCTGAAACTGCTGTGTGTGCCTTTCGGCTACTGTATCCCCAGGTTTAAGAACCTGAGCATCGAGGCCCTGTTCGATAGGAACGAGGCCGCCAAGTTCGACAAGGAGAAAAAGAAGGTGTCCGGCAATTCCGGATCCGGAGCGGCCGCTTACCCATACGATGTTCCAGATTACGCTTAA'"
   ]
  },
  {
   "cell_type": "code",
   "execution_count": 21,
   "metadata": {},
   "outputs": [
    {
     "data": {
      "text/plain": [
       "2391"
      ]
     },
     "execution_count": 21,
     "metadata": {},
     "output_type": "execute_result"
    }
   ],
   "source": [
    "best_2nd.find('ctcgag'.upper())"
   ]
  },
  {
   "cell_type": "code",
   "execution_count": 109,
   "metadata": {},
   "outputs": [],
   "source": [
    "insertion = 'ctcgagagcgccaaccccaagctgtatgccaattacatcaaatacagcgacgagaagaaagccgaggagttcaccaggcagattaacagggagaaggccaaaaccgccctgaacgcctacctgaggaacaccaagtggaatgtgatcatcagggaggacctcctgagaattgacaacaagacatgtaccctgttcagaaacaaggccgtccacctggaagtggccaggtatgtccacgcctatatcaacgacattgccgaggtcaattcctacttccaactgtaccattacatcatgcagagaattatcatgaatgagaggtacgagaaaagcagcggaaaggtgtccgagtacttcgacgctgtgaatgacgagaagaagtacaacgataggctcctgaaactgctgtgtgtgcctttcggctactgtatccccaggtttaagaacctgagcatcgaggccctgttcgataggaacgaggccgccaagttcgacaaggagaaaaagaaggtgtccggcaattccggatcc'\n",
    "optimal30a = best_2nd[:2391] + insertion  + seq[2922:]"
   ]
  },
  {
   "cell_type": "code",
   "execution_count": 113,
   "metadata": {},
   "outputs": [],
   "source": [
    "assert translate(optimal30a.upper()) == translate(best_2nd)"
   ]
  },
  {
   "cell_type": "code",
   "execution_count": 116,
   "metadata": {},
   "outputs": [],
   "source": [
    "optimal30_b = best_2nd[:1704] + \\\n",
    "    'gagctcaaggccctcgccgacaccttttccctggacgagaacggaaacaagctcaagaaaggcaagcacggcatgagaaatttcattattaataacgtgatcagcaataaaaggttccactacctgatcagatacggtgatcctgcccacctccatgagatcgccaaaaacgaggccgtggtgaagttcgtgctcggcaggatcgctgacatccagaaaaaacagggccagaacggcaagaaccagatcgacaggtactacgaaacttgtatcggaaaggataagggcaagagcgtgagcgaaaaggtggacgctctcacaaagatcatcaccggaatgaactacgaccaattcgacaagaaaaggagcgtcattgaggacaccggcagggaaaacgccgagagggagaagtttaaaaagatcatcagcctgtacctcaccgtgatctaccacatcctcaagaatattgtcaatatcaacgccaggtacgtcatcggattccattgcgtcgagcgtgatgctcaactgtacaaggagaaaggctacgacatcaatctcaagaaactggaagagaagggattcagctccgtcaccaagctctgcgctggcattgatgaaactgcccccgataagagaaaggacgtggaaaaggagatggctgaaagagccaaggagagcattgacagcctcgag' +\\\n",
    "    best_2nd[2397:]"
   ]
  },
  {
   "cell_type": "code",
   "execution_count": 117,
   "metadata": {},
   "outputs": [
    {
     "data": {
      "text/plain": [
       "True"
      ]
     },
     "execution_count": 117,
     "metadata": {},
     "output_type": "execute_result"
    }
   ],
   "source": [
    "translate(seq.upper()) == translate(best_2nd)"
   ]
  },
  {
   "cell_type": "code",
   "execution_count": 118,
   "metadata": {},
   "outputs": [
    {
     "data": {
      "text/plain": [
       "True"
      ]
     },
     "execution_count": 118,
     "metadata": {},
     "output_type": "execute_result"
    }
   ],
   "source": [
    "translate(best_2nd) == translate(optimal30_b.upper())"
   ]
  },
  {
   "cell_type": "code",
   "execution_count": 130,
   "metadata": {},
   "outputs": [],
   "source": [
    "data = {\n",
    "    'seqs': [seq, best_2nd, optimal30_b, optimal30a],\n",
    "    'name': ['original', '50%', '30% b', '30% a']\n",
    "}\n",
    "data = pd.DataFrame(data).assign(seqs = lambda x: x.seqs.str.upper())"
   ]
  },
  {
   "cell_type": "code",
   "execution_count": 131,
   "metadata": {},
   "outputs": [],
   "source": [
    "# predict the stability\n",
    "preds = data.seqs.apply(predict_seq_with_uncertainty, models=modelo, **mdl_params)\n",
    "\n",
    "data['prediction'] = preds.map(lambda x: x[1])\n",
    "data['ci_l'] = preds.map(lambda x: x[0])\n",
    "data['ci_u'] = preds.map(lambda x: x[-1])"
   ]
  },
  {
   "cell_type": "code",
   "execution_count": 132,
   "metadata": {},
   "outputs": [],
   "source": [
    "data.to_csv('results_data/cas13dS.csv', index=False)"
   ]
  }
 ],
 "metadata": {
  "kernelspec": {
   "display_name": "Python 3",
   "language": "python",
   "name": "python3"
  },
  "language_info": {
   "codemirror_mode": {
    "name": "ipython",
    "version": 3
   },
   "file_extension": ".py",
   "mimetype": "text/x-python",
   "name": "python",
   "nbconvert_exporter": "python",
   "pygments_lexer": "ipython3",
   "version": "3.6.8"
  }
 },
 "nbformat": 4,
 "nbformat_minor": 2
}
