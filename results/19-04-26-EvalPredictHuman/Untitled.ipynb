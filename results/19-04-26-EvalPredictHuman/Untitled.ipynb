{
 "cells": [
  {
   "cell_type": "markdown",
   "metadata": {},
   "source": [
    "## Can we predict better fish decay if we include human data?"
   ]
  },
  {
   "cell_type": "code",
   "execution_count": 1,
   "metadata": {},
   "outputs": [],
   "source": [
    "import numpy as np\n",
    "import pandas as pd\n",
    "from optimalcodon.projects.optrules import utils\n",
    "from optimalcodon.codons import codon_composition, generate_codons\n",
    "\n",
    "# sklearn\n",
    "from sklearn.compose import ColumnTransformer\n",
    "from sklearn.preprocessing import Normalizer, StandardScaler, OneHotEncoder, PolynomialFeatures\n",
    "from sklearn.model_selection import train_test_split, GridSearchCV\n",
    "from sklearn.pipeline import Pipeline, FeatureUnion\n",
    "from sklearn.cross_decomposition import PLSRegression\n",
    "from sklearn.feature_selection import VarianceThreshold\n",
    "from sklearn.metrics import r2_score, make_scorer\n",
    "\n",
    "import matplotlib.pyplot as plt"
   ]
  },
  {
   "cell_type": "markdown",
   "metadata": {},
   "source": [
    "## Prepare Data"
   ]
  },
  {
   "cell_type": "code",
   "execution_count": 2,
   "metadata": {},
   "outputs": [
    {
     "name": "stdout",
     "output_type": "stream",
     "text": [
      "loading decay profiles ...\n",
      "loading orfs ...\n"
     ]
    },
    {
     "name": "stderr",
     "output_type": "stream",
     "text": [
      "/n/projects/smedina/packages/optimalcodon/optimalcodon/projects/optrules/utils.py:82: FutureWarning: Sorting because non-concatenation axis is not aligned. A future version\n",
      "of pandas will change to not sort by default.\n",
      "\n",
      "To accept the future behavior, pass 'sort=False'.\n",
      "\n",
      "To retain the current behavior and silence the warning, pass 'sort=True'.\n",
      "\n",
      "  return pd.concat([fish, human], ignore_index=True)\n"
     ]
    },
    {
     "data": {
      "text/html": [
       "<div>\n",
       "<style scoped>\n",
       "    .dataframe tbody tr th:only-of-type {\n",
       "        vertical-align: middle;\n",
       "    }\n",
       "\n",
       "    .dataframe tbody tr th {\n",
       "        vertical-align: top;\n",
       "    }\n",
       "\n",
       "    .dataframe thead th {\n",
       "        text-align: right;\n",
       "    }\n",
       "</style>\n",
       "<table border=\"1\" class=\"dataframe\">\n",
       "  <thead>\n",
       "    <tr style=\"text-align: right;\">\n",
       "      <th></th>\n",
       "      <th>Gene_ID</th>\n",
       "      <th>decay_rate</th>\n",
       "      <th>std.error</th>\n",
       "      <th>datatype</th>\n",
       "      <th>cell_type</th>\n",
       "      <th>specie</th>\n",
       "    </tr>\n",
       "  </thead>\n",
       "  <tbody>\n",
       "    <tr>\n",
       "      <th>34581</th>\n",
       "      <td>GCGGTGACCCCTCTGTTTCCTGGG</td>\n",
       "      <td>-0.016613</td>\n",
       "      <td>0.021997</td>\n",
       "      <td>orf-ome</td>\n",
       "      <td>k562</td>\n",
       "      <td>human</td>\n",
       "    </tr>\n",
       "    <tr>\n",
       "      <th>11544</th>\n",
       "      <td>ENSDARG00000092898</td>\n",
       "      <td>-0.133196</td>\n",
       "      <td>0.051329</td>\n",
       "      <td>endogenous</td>\n",
       "      <td>embryo</td>\n",
       "      <td>fish</td>\n",
       "    </tr>\n",
       "    <tr>\n",
       "      <th>45682</th>\n",
       "      <td>AATGTTTAAATGAGGAGGAAAATG</td>\n",
       "      <td>0.031188</td>\n",
       "      <td>0.043353</td>\n",
       "      <td>orf-ome</td>\n",
       "      <td>293t</td>\n",
       "      <td>human</td>\n",
       "    </tr>\n",
       "    <tr>\n",
       "      <th>62778</th>\n",
       "      <td>ENSG00000100083</td>\n",
       "      <td>0.036957</td>\n",
       "      <td>0.017832</td>\n",
       "      <td>endogenous</td>\n",
       "      <td>293t</td>\n",
       "      <td>human</td>\n",
       "    </tr>\n",
       "    <tr>\n",
       "      <th>35412</th>\n",
       "      <td>ACTCTCTGTTATTACCTATAAACG</td>\n",
       "      <td>-0.086241</td>\n",
       "      <td>0.042039</td>\n",
       "      <td>orf-ome</td>\n",
       "      <td>k562</td>\n",
       "      <td>human</td>\n",
       "    </tr>\n",
       "    <tr>\n",
       "      <th>10653</th>\n",
       "      <td>ENSDARG00000086628</td>\n",
       "      <td>-0.603501</td>\n",
       "      <td>0.107589</td>\n",
       "      <td>endogenous</td>\n",
       "      <td>embryo</td>\n",
       "      <td>fish</td>\n",
       "    </tr>\n",
       "    <tr>\n",
       "      <th>16451</th>\n",
       "      <td>ENSG00000100612</td>\n",
       "      <td>-0.056099</td>\n",
       "      <td>0.009210</td>\n",
       "      <td>slam-seq</td>\n",
       "      <td>k562</td>\n",
       "      <td>human</td>\n",
       "    </tr>\n",
       "    <tr>\n",
       "      <th>11628</th>\n",
       "      <td>ENSDARG00000093496</td>\n",
       "      <td>-0.256854</td>\n",
       "      <td>0.033332</td>\n",
       "      <td>endogenous</td>\n",
       "      <td>embryo</td>\n",
       "      <td>fish</td>\n",
       "    </tr>\n",
       "    <tr>\n",
       "      <th>13191</th>\n",
       "      <td>ENSDARG00000100791</td>\n",
       "      <td>-0.217415</td>\n",
       "      <td>0.051027</td>\n",
       "      <td>endogenous</td>\n",
       "      <td>embryo</td>\n",
       "      <td>fish</td>\n",
       "    </tr>\n",
       "    <tr>\n",
       "      <th>13170</th>\n",
       "      <td>ENSDARG00000100718</td>\n",
       "      <td>0.077800</td>\n",
       "      <td>0.016001</td>\n",
       "      <td>endogenous</td>\n",
       "      <td>embryo</td>\n",
       "      <td>fish</td>\n",
       "    </tr>\n",
       "  </tbody>\n",
       "</table>\n",
       "</div>"
      ],
      "text/plain": [
       "                        Gene_ID  decay_rate  std.error    datatype cell_type  \\\n",
       "34581  GCGGTGACCCCTCTGTTTCCTGGG   -0.016613   0.021997     orf-ome      k562   \n",
       "11544        ENSDARG00000092898   -0.133196   0.051329  endogenous    embryo   \n",
       "45682  AATGTTTAAATGAGGAGGAAAATG    0.031188   0.043353     orf-ome      293t   \n",
       "62778           ENSG00000100083    0.036957   0.017832  endogenous      293t   \n",
       "35412  ACTCTCTGTTATTACCTATAAACG   -0.086241   0.042039     orf-ome      k562   \n",
       "10653        ENSDARG00000086628   -0.603501   0.107589  endogenous    embryo   \n",
       "16451           ENSG00000100612   -0.056099   0.009210    slam-seq      k562   \n",
       "11628        ENSDARG00000093496   -0.256854   0.033332  endogenous    embryo   \n",
       "13191        ENSDARG00000100791   -0.217415   0.051027  endogenous    embryo   \n",
       "13170        ENSDARG00000100718    0.077800   0.016001  endogenous    embryo   \n",
       "\n",
       "      specie  \n",
       "34581  human  \n",
       "11544   fish  \n",
       "45682  human  \n",
       "62778  human  \n",
       "35412  human  \n",
       "10653   fish  \n",
       "16451  human  \n",
       "11628   fish  \n",
       "13191   fish  \n",
       "13170   fish  "
      ]
     },
     "execution_count": 2,
     "metadata": {},
     "output_type": "execute_result"
    }
   ],
   "source": [
    "decay, orfs = utils.load_endogenous_data(\"../../../190115-CodonOptimalityRules/data/190416-DecayProfilesANDEndogenousDataSets/\")\n",
    "decay.sample(10)"
   ]
  },
  {
   "cell_type": "code",
   "execution_count": 3,
   "metadata": {},
   "outputs": [
    {
     "data": {
      "image/png": "[encoded data removed]",
      "text/plain": [
       "<Figure size 432x288 with 1 Axes>"
      ]
     },
     "metadata": {
      "needs_background": "light"
     },
     "output_type": "display_data"
    }
   ],
   "source": [
    "# this can be a predictor for genes withou this we can impute the median\n",
    "plt.hist(decay['std.error'], bins=100);"
   ]
  },
  {
   "cell_type": "code",
   "execution_count": 4,
   "metadata": {},
   "outputs": [],
   "source": [
    "# meta is use-less\n",
    "orfs = orfs.drop(['datatype', 'specie'], axis=1)\n",
    "\n",
    "# compute the codon composition\n",
    "# this functionality can be added to the sklearn pipeline\n",
    "orfs = (\n",
    "    pd.concat([orfs, codon_composition(orfs.cds)], axis=1)\n",
    "    .drop('cds', axis=1)\n",
    ")\n",
    "\n",
    "\n",
    "# merge predictors and response variable\n",
    "data = pd.merge(decay, orfs, on=\"Gene_ID\").drop(['std.error', 'Gene_ID'], axis=1)"
   ]
  },
  {
   "cell_type": "code",
   "execution_count": 5,
   "metadata": {},
   "outputs": [
    {
     "data": {
      "image/png": "[encoded data removed]",
      "text/plain": [
       "<Figure size 432x288 with 1 Axes>"
      ]
     },
     "metadata": {
      "needs_background": "light"
     },
     "output_type": "display_data"
    }
   ],
   "source": [
    "plt.hist(data.decay_rate, bins=100);"
   ]
  },
  {
   "cell_type": "code",
   "execution_count": 6,
   "metadata": {},
   "outputs": [],
   "source": [
    "# drop outliers\n",
    "data = data[abs(data.decay_rate) < .5 ]"
   ]
  },
  {
   "cell_type": "code",
   "execution_count": 7,
   "metadata": {},
   "outputs": [
    {
     "data": {
      "image/png": "[encoded data removed]",
      "text/plain": [
       "<Figure size 432x288 with 1 Axes>"
      ]
     },
     "metadata": {
      "needs_background": "light"
     },
     "output_type": "display_data"
    }
   ],
   "source": [
    "plt.hist(data.decay_rate, bins=100);"
   ]
  },
  {
   "cell_type": "code",
   "execution_count": 8,
   "metadata": {},
   "outputs": [],
   "source": [
    "## Scale the response variable"
   ]
  },
  {
   "cell_type": "code",
   "execution_count": null,
   "metadata": {},
   "outputs": [],
   "source": [
    "def my_decay_scaler(grp):\n",
    "    # scale the decay rate\n",
    "    grp['decay_rate'] = (grp.decay_rate - grp.decay_rate.mean()) / grp.decay_rate.std()\n",
    "    return grp\n",
    "    \n",
    "data = data.groupby(['datatype', 'cell_type', 'specie']).apply(my_decay_scaler)"
   ]
  },
  {
   "cell_type": "code",
   "execution_count": null,
   "metadata": {},
   "outputs": [],
   "source": [
    "\n",
    "data_train, data_test = train_test_split(data, test_size=0.3)\n",
    "\n",
    "X_train = data_train.drop(['decay_rate'], axis=1)\n",
    "y_train = data_train.decay_rate\n",
    "\n",
    "y_test = data_test.decay_rate\n",
    "X_test = data_test.drop(['decay_rate'], axis=1)"
   ]
  },
  {
   "cell_type": "code",
   "execution_count": null,
   "metadata": {},
   "outputs": [
    {
     "data": {
      "text/plain": [
       "(20478, 67)"
      ]
     },
     "execution_count": 11,
     "metadata": {},
     "output_type": "execute_result"
    }
   ],
   "source": [
    "X_test.shape"
   ]
  },
  {
   "cell_type": "markdown",
   "metadata": {},
   "source": [
    "## Data Pre-processing\n",
    "\n",
    "### Categorical Features\n",
    "\n",
    "+ One hot encoding\n",
    "\n",
    "\n",
    "### Codon Features\n",
    "\n",
    "+ L2 normalization\n",
    "+ Scaling"
   ]
  },
  {
   "cell_type": "code",
   "execution_count": null,
   "metadata": {},
   "outputs": [
    {
     "data": {
      "text/html": [
       "<div>\n",
       "<style scoped>\n",
       "    .dataframe tbody tr th:only-of-type {\n",
       "        vertical-align: middle;\n",
       "    }\n",
       "\n",
       "    .dataframe tbody tr th {\n",
       "        vertical-align: top;\n",
       "    }\n",
       "\n",
       "    .dataframe thead th {\n",
       "        text-align: right;\n",
       "    }\n",
       "</style>\n",
       "<table border=\"1\" class=\"dataframe\">\n",
       "  <thead>\n",
       "    <tr style=\"text-align: right;\">\n",
       "      <th></th>\n",
       "      <th>datatype</th>\n",
       "      <th>cell_type</th>\n",
       "      <th>specie</th>\n",
       "      <th>AAA</th>\n",
       "      <th>AAC</th>\n",
       "      <th>AAG</th>\n",
       "      <th>AAT</th>\n",
       "      <th>ACA</th>\n",
       "      <th>ACC</th>\n",
       "      <th>ACG</th>\n",
       "      <th>...</th>\n",
       "      <th>TCG</th>\n",
       "      <th>TCT</th>\n",
       "      <th>TGA</th>\n",
       "      <th>TGC</th>\n",
       "      <th>TGG</th>\n",
       "      <th>TGT</th>\n",
       "      <th>TTA</th>\n",
       "      <th>TTC</th>\n",
       "      <th>TTG</th>\n",
       "      <th>TTT</th>\n",
       "    </tr>\n",
       "  </thead>\n",
       "  <tbody>\n",
       "    <tr>\n",
       "      <th>39097</th>\n",
       "      <td>orf-ome</td>\n",
       "      <td>k562</td>\n",
       "      <td>human</td>\n",
       "      <td>4</td>\n",
       "      <td>1</td>\n",
       "      <td>2</td>\n",
       "      <td>4</td>\n",
       "      <td>4</td>\n",
       "      <td>1</td>\n",
       "      <td>0</td>\n",
       "      <td>...</td>\n",
       "      <td>0</td>\n",
       "      <td>1</td>\n",
       "      <td>0</td>\n",
       "      <td>2</td>\n",
       "      <td>3</td>\n",
       "      <td>3</td>\n",
       "      <td>1</td>\n",
       "      <td>1</td>\n",
       "      <td>1</td>\n",
       "      <td>1</td>\n",
       "    </tr>\n",
       "    <tr>\n",
       "      <th>924</th>\n",
       "      <td>endogenous</td>\n",
       "      <td>embryo</td>\n",
       "      <td>fish</td>\n",
       "      <td>54</td>\n",
       "      <td>33</td>\n",
       "      <td>51</td>\n",
       "      <td>45</td>\n",
       "      <td>55</td>\n",
       "      <td>9</td>\n",
       "      <td>13</td>\n",
       "      <td>...</td>\n",
       "      <td>17</td>\n",
       "      <td>46</td>\n",
       "      <td>1</td>\n",
       "      <td>7</td>\n",
       "      <td>8</td>\n",
       "      <td>3</td>\n",
       "      <td>26</td>\n",
       "      <td>17</td>\n",
       "      <td>24</td>\n",
       "      <td>30</td>\n",
       "    </tr>\n",
       "    <tr>\n",
       "      <th>11471</th>\n",
       "      <td>endogenous</td>\n",
       "      <td>embryo</td>\n",
       "      <td>fish</td>\n",
       "      <td>10</td>\n",
       "      <td>6</td>\n",
       "      <td>7</td>\n",
       "      <td>4</td>\n",
       "      <td>3</td>\n",
       "      <td>10</td>\n",
       "      <td>3</td>\n",
       "      <td>...</td>\n",
       "      <td>6</td>\n",
       "      <td>7</td>\n",
       "      <td>0</td>\n",
       "      <td>2</td>\n",
       "      <td>4</td>\n",
       "      <td>4</td>\n",
       "      <td>2</td>\n",
       "      <td>4</td>\n",
       "      <td>3</td>\n",
       "      <td>1</td>\n",
       "    </tr>\n",
       "    <tr>\n",
       "      <th>38813</th>\n",
       "      <td>orf-ome</td>\n",
       "      <td>k562</td>\n",
       "      <td>human</td>\n",
       "      <td>3</td>\n",
       "      <td>6</td>\n",
       "      <td>2</td>\n",
       "      <td>3</td>\n",
       "      <td>3</td>\n",
       "      <td>5</td>\n",
       "      <td>0</td>\n",
       "      <td>...</td>\n",
       "      <td>0</td>\n",
       "      <td>1</td>\n",
       "      <td>0</td>\n",
       "      <td>1</td>\n",
       "      <td>3</td>\n",
       "      <td>5</td>\n",
       "      <td>2</td>\n",
       "      <td>1</td>\n",
       "      <td>1</td>\n",
       "      <td>3</td>\n",
       "    </tr>\n",
       "    <tr>\n",
       "      <th>64648</th>\n",
       "      <td>endogenous</td>\n",
       "      <td>293t</td>\n",
       "      <td>human</td>\n",
       "      <td>2</td>\n",
       "      <td>19</td>\n",
       "      <td>13</td>\n",
       "      <td>5</td>\n",
       "      <td>6</td>\n",
       "      <td>13</td>\n",
       "      <td>13</td>\n",
       "      <td>...</td>\n",
       "      <td>8</td>\n",
       "      <td>5</td>\n",
       "      <td>1</td>\n",
       "      <td>27</td>\n",
       "      <td>19</td>\n",
       "      <td>5</td>\n",
       "      <td>0</td>\n",
       "      <td>36</td>\n",
       "      <td>3</td>\n",
       "      <td>6</td>\n",
       "    </tr>\n",
       "  </tbody>\n",
       "</table>\n",
       "<p>5 rows × 67 columns</p>\n",
       "</div>"
      ],
      "text/plain": [
       "         datatype cell_type specie  AAA  AAC  AAG  AAT  ACA  ACC  ACG  ...  \\\n",
       "39097     orf-ome      k562  human    4    1    2    4    4    1    0  ...   \n",
       "924    endogenous    embryo   fish   54   33   51   45   55    9   13  ...   \n",
       "11471  endogenous    embryo   fish   10    6    7    4    3   10    3  ...   \n",
       "38813     orf-ome      k562  human    3    6    2    3    3    5    0  ...   \n",
       "64648  endogenous      293t  human    2   19   13    5    6   13   13  ...   \n",
       "\n",
       "       TCG  TCT  TGA  TGC  TGG  TGT  TTA  TTC  TTG  TTT  \n",
       "39097    0    1    0    2    3    3    1    1    1    1  \n",
       "924     17   46    1    7    8    3   26   17   24   30  \n",
       "11471    6    7    0    2    4    4    2    4    3    1  \n",
       "38813    0    1    0    1    3    5    2    1    1    3  \n",
       "64648    8    5    1   27   19    5    0   36    3    6  \n",
       "\n",
       "[5 rows x 67 columns]"
      ]
     },
     "execution_count": 12,
     "metadata": {},
     "output_type": "execute_result"
    }
   ],
   "source": [
    "X_test.head()"
   ]
  },
  {
   "cell_type": "markdown",
   "metadata": {},
   "source": [
    "## The pipeline"
   ]
  },
  {
   "cell_type": "code",
   "execution_count": null,
   "metadata": {},
   "outputs": [],
   "source": [
    "num_features = generate_codons()\n",
    "cat_features = ['specie', 'datatype', 'cell_type']\n",
    "\n",
    "num_pipeline = Pipeline([\n",
    "    ('l2_norm', Normalizer(norm='l2')),\n",
    "    ('scaler', StandardScaler())\n",
    "])\n",
    "\n",
    "cat_pipeline = Pipeline([\n",
    "    ('one_hot', OneHotEncoder())\n",
    "])\n",
    "\n",
    "preprocessor_1 = ColumnTransformer(\n",
    "    transformers=[\n",
    "        ('num', num_pipeline, num_features),\n",
    "        ('cat', cat_pipeline, cat_features)\n",
    "    ]\n",
    ")\n",
    "\n",
    "full_pipeline = Pipeline(steps=[\n",
    "    ('preproc1', preprocessor_1),\n",
    "    ('interactions', PolynomialFeatures()),\n",
    "    ('zerovar', VarianceThreshold(0)),\n",
    "    ('scaler', StandardScaler()),\n",
    "    ('pls', PLSRegression(n_components=10))\n",
    "])"
   ]
  },
  {
   "cell_type": "markdown",
   "metadata": {},
   "source": [
    "## Grid Search"
   ]
  },
  {
   "cell_type": "code",
   "execution_count": null,
   "metadata": {},
   "outputs": [
    {
     "name": "stdout",
     "output_type": "stream",
     "text": [
      "Fitting 10 folds for each of 76 candidates, totalling 760 fits\n"
     ]
    },
    {
     "name": "stderr",
     "output_type": "stream",
     "text": [
      "[Parallel(n_jobs=32)]: Using backend LokyBackend with 32 concurrent workers.\n",
      "[Parallel(n_jobs=32)]: Done   8 tasks      | elapsed:  1.7min\n"
     ]
    }
   ],
   "source": [
    "param_grid = dict(\n",
    "    pls__n_components=list(range(2, 21)),\n",
    "    interactions__degree = [2, 3],\n",
    "    interactions__interaction_only = [True, False]\n",
    ")\n",
    "\n",
    "grid_search = GridSearchCV(\n",
    "    full_pipeline,\n",
    "    param_grid=param_grid,\n",
    "    cv=10,\n",
    "    verbose=10,\n",
    "    n_jobs=32,\n",
    "    scoring=make_scorer(r2_score)\n",
    ")\n",
    "grid_search.fit(X_train, y_train)"
   ]
  },
  {
   "cell_type": "code",
   "execution_count": null,
   "metadata": {},
   "outputs": [],
   "source": [
    "print(grid_search.best_estimator_)"
   ]
  },
  {
   "cell_type": "code",
   "execution_count": null,
   "metadata": {},
   "outputs": [],
   "source": [
    "y_pred = grid_search.best_estimator_.predict(X_test).reshape(1, -1)"
   ]
  },
  {
   "cell_type": "code",
   "execution_count": null,
   "metadata": {},
   "outputs": [],
   "source": [
    "plt.hist(y_test, bins=100);"
   ]
  },
  {
   "cell_type": "code",
   "execution_count": null,
   "metadata": {},
   "outputs": [],
   "source": [
    "plt.scatter(y_pred, y_test, alpha=1/5);"
   ]
  },
  {
   "cell_type": "code",
   "execution_count": null,
   "metadata": {},
   "outputs": [],
   "source": [
    "preds = data_test.drop(generate_codons(), axis=1).assign(y_pred=y_pred[0])"
   ]
  },
  {
   "cell_type": "code",
   "execution_count": null,
   "metadata": {},
   "outputs": [],
   "source": [
    "preds.to_csv('preds.csv', index=False)"
   ]
  },
  {
   "cell_type": "code",
   "execution_count": null,
   "metadata": {},
   "outputs": [],
   "source": [
    "##\n",
    "cv_res = pd.DataFrame(grid_search.cv_results_)"
   ]
  },
  {
   "cell_type": "code",
   "execution_count": null,
   "metadata": {},
   "outputs": [],
   "source": [
    "cv_res.to_csv(\"cv_res.csv\", index=False)"
   ]
  },
  {
   "cell_type": "code",
   "execution_count": null,
   "metadata": {},
   "outputs": [],
   "source": []
  }
 ],
 "metadata": {
  "kernelspec": {
   "display_name": "Python 3",
   "language": "python",
   "name": "python3"
  },
  "language_info": {
   "codemirror_mode": {
    "name": "ipython",
    "version": 3
   },
   "file_extension": ".py",
   "mimetype": "text/x-python",
   "name": "python",
   "nbconvert_exporter": "python",
   "pygments_lexer": "ipython3",
   "version": "3.6.7"
  }
 },
 "nbformat": 4,
 "nbformat_minor": 2
}
