{
 "cells": [
  {
   "cell_type": "markdown",
   "metadata": {},
   "source": [
    "## Which pathway explains more variation of maternal mRNA degradation rates in WT conditions?\n",
    "\n",
    "Overview:\n",
    "\n",
    "\n",
    "Conditions:\n",
    "   + model type: **linear model**\n",
    "   + Evaluation Metric: $R^2$\n",
    "   + Cross Validation: **Repeated 10-fold-cv**"
   ]
  },
  {
   "cell_type": "code",
   "execution_count": 1,
   "metadata": {},
   "outputs": [],
   "source": [
    "import numpy as np\n",
    "import pandas as pd\n",
    "from sklearn.base import BaseEstimator, TransformerMixin\n",
    "from sklearn.model_selection import train_test_split, GridSearchCV, RepeatedKFold\n",
    "from sklearn.pipeline import Pipeline\n",
    "from sklearn.linear_model import LinearRegression\n",
    "from sklearn.preprocessing import StandardScaler\n",
    "from sklearn.metrics import make_scorer, r2_score, mean_squared_error\n",
    "import warnings; warnings.simplefilter('ignore')"
   ]
  },
  {
   "cell_type": "code",
   "execution_count": 2,
   "metadata": {},
   "outputs": [
    {
     "data": {
      "text/html": [
       "<div>\n",
       "<style scoped>\n",
       "    .dataframe tbody tr th:only-of-type {\n",
       "        vertical-align: middle;\n",
       "    }\n",
       "\n",
       "    .dataframe tbody tr th {\n",
       "        vertical-align: top;\n",
       "    }\n",
       "\n",
       "    .dataframe thead th {\n",
       "        text-align: right;\n",
       "    }\n",
       "</style>\n",
       "<table border=\"1\" class=\"dataframe\">\n",
       "  <thead>\n",
       "    <tr style=\"text-align: right;\">\n",
       "      <th></th>\n",
       "      <th>wt_polya</th>\n",
       "      <th>wt_ribo</th>\n",
       "      <th>m6A</th>\n",
       "      <th>MiR430</th>\n",
       "      <th>PLS1</th>\n",
       "      <th>PLS2</th>\n",
       "      <th>m6a_affected_in_mutant</th>\n",
       "    </tr>\n",
       "    <tr>\n",
       "      <th>Gene_ID</th>\n",
       "      <th></th>\n",
       "      <th></th>\n",
       "      <th></th>\n",
       "      <th></th>\n",
       "      <th></th>\n",
       "      <th></th>\n",
       "      <th></th>\n",
       "    </tr>\n",
       "  </thead>\n",
       "  <tbody>\n",
       "    <tr>\n",
       "      <th>ENSDARG00000000018</th>\n",
       "      <td>0.185277</td>\n",
       "      <td>-0.108162</td>\n",
       "      <td>False</td>\n",
       "      <td>0</td>\n",
       "      <td>0.866097</td>\n",
       "      <td>1.623199</td>\n",
       "      <td>False</td>\n",
       "    </tr>\n",
       "    <tr>\n",
       "      <th>ENSDARG00000000019</th>\n",
       "      <td>-0.138868</td>\n",
       "      <td>-0.064825</td>\n",
       "      <td>False</td>\n",
       "      <td>2</td>\n",
       "      <td>1.076742</td>\n",
       "      <td>0.877583</td>\n",
       "      <td>False</td>\n",
       "    </tr>\n",
       "    <tr>\n",
       "      <th>ENSDARG00000000068</th>\n",
       "      <td>0.040206</td>\n",
       "      <td>-0.132033</td>\n",
       "      <td>False</td>\n",
       "      <td>0</td>\n",
       "      <td>2.158753</td>\n",
       "      <td>1.800105</td>\n",
       "      <td>False</td>\n",
       "    </tr>\n",
       "    <tr>\n",
       "      <th>ENSDARG00000000086</th>\n",
       "      <td>0.019231</td>\n",
       "      <td>-0.062527</td>\n",
       "      <td>False</td>\n",
       "      <td>0</td>\n",
       "      <td>1.392857</td>\n",
       "      <td>0.715777</td>\n",
       "      <td>False</td>\n",
       "    </tr>\n",
       "    <tr>\n",
       "      <th>ENSDARG00000000103</th>\n",
       "      <td>0.119885</td>\n",
       "      <td>-0.004627</td>\n",
       "      <td>False</td>\n",
       "      <td>0</td>\n",
       "      <td>2.140356</td>\n",
       "      <td>0.917946</td>\n",
       "      <td>False</td>\n",
       "    </tr>\n",
       "  </tbody>\n",
       "</table>\n",
       "</div>"
      ],
      "text/plain": [
       "                    wt_polya   wt_ribo    m6A  MiR430      PLS1      PLS2  \\\n",
       "Gene_ID                                                                     \n",
       "ENSDARG00000000018  0.185277 -0.108162  False       0  0.866097  1.623199   \n",
       "ENSDARG00000000019 -0.138868 -0.064825  False       2  1.076742  0.877583   \n",
       "ENSDARG00000000068  0.040206 -0.132033  False       0  2.158753  1.800105   \n",
       "ENSDARG00000000086  0.019231 -0.062527  False       0  1.392857  0.715777   \n",
       "ENSDARG00000000103  0.119885 -0.004627  False       0  2.140356  0.917946   \n",
       "\n",
       "                    m6a_affected_in_mutant  \n",
       "Gene_ID                                     \n",
       "ENSDARG00000000018                   False  \n",
       "ENSDARG00000000019                   False  \n",
       "ENSDARG00000000068                   False  \n",
       "ENSDARG00000000086                   False  \n",
       "ENSDARG00000000103                   False  "
      ]
     },
     "execution_count": 2,
     "metadata": {},
     "output_type": "execute_result"
    }
   ],
   "source": [
    "dta = pd.read_csv(\"./results_data/analysis_data.csv\")\n",
    "dta.set_index('Gene_ID', inplace=True)\n",
    "dta.head()"
   ]
  },
  {
   "cell_type": "code",
   "execution_count": 7,
   "metadata": {},
   "outputs": [],
   "source": [
    "y_train = dta[['wt_ribo', 'wt_polya']]\n",
    "X_train = dta[['m6a_affected_in_mutant', 'MiR430', 'PLS1', 'PLS2']]"
   ]
  },
  {
   "cell_type": "code",
   "execution_count": 8,
   "metadata": {},
   "outputs": [],
   "source": [
    "pathways = {\n",
    "    'codon optimality': ['PLS1'],\n",
    "    'm6a': ['m6a_affected_in_mutant'],\n",
    "    'miRNA-430': ['MiR430']\n",
    "}\n",
    "\n",
    "class PathwaySelector(BaseEstimator, TransformerMixin):\n",
    "    \"\"\"helper class the get the pathway predictors\"\"\"\n",
    "    def __init__(self, columns):\n",
    "        self.columns = columns\n",
    "        \n",
    "    def fit(self, X, y=None):\n",
    "        return self\n",
    "\n",
    "    def transform(self, X):\n",
    "        assert isinstance(X, pd.DataFrame)\n",
    "\n",
    "        try:\n",
    "            return X[self.columns]\n",
    "        except KeyError:\n",
    "            cols_error = list(set(self.columns) - set(X.columns))\n",
    "            raise KeyError(\"The DataFrame does not include the columns: %s\" % cols_error)    "
   ]
  },
  {
   "cell_type": "code",
   "execution_count": 9,
   "metadata": {},
   "outputs": [
    {
     "name": "stdout",
     "output_type": "stream",
     "text": [
      "evaluating codon optimality\n",
      "evaluating m6a\n",
      "evaluating miRNA-430\n"
     ]
    }
   ],
   "source": [
    "results = []\n",
    "\n",
    "def evaluate_pipeline_in_data(y, pipeline, sample_condition):\n",
    "    \"\"\"\n",
    "    returns:\n",
    "        pd.DataFrame: CV results\n",
    "    \"\"\"\n",
    "    cv = RepeatedKFold(random_state=43)\n",
    "    grid = GridSearchCV(estimator=pipeline, param_grid={}, n_jobs=10, scoring=make_scorer(r2_score), cv=cv)\n",
    "    grid.fit(X_train, y)\n",
    "    cv_res = pd.DataFrame(grid.cv_results_)\n",
    "    cv_res['sample_condition'] = sample_condition\n",
    "    return cv_res\n",
    "    \n",
    "\n",
    "for pathway in pathways.keys():\n",
    "    print('evaluating {}'.format(pathway))\n",
    "    # make the pipeline\n",
    "    pipeline = Pipeline(steps=[\n",
    "        ('pathway', PathwaySelector(pathways[pathway])),\n",
    "        ('scaler', StandardScaler()),\n",
    "        ('regresor', LinearRegression())\n",
    "    ])\n",
    "    \n",
    "    # evaluate the data using 10-fold CV\n",
    "    r_poly = evaluate_pipeline_in_data(y_train.wt_polya, pipeline, 'poly-A')\n",
    "    r_ribo = evaluate_pipeline_in_data(y_train.wt_ribo, pipeline, 'ribo0')\n",
    "\n",
    "    # add metadata to the results and append\n",
    "    r_poly['pathway'] = pathway\n",
    "    r_ribo['pathway'] = pathway\n",
    "    \n",
    "    results.extend([r_ribo, r_poly])\n",
    "\n",
    "results = pd.concat(results)"
   ]
  },
  {
   "cell_type": "code",
   "execution_count": 10,
   "metadata": {},
   "outputs": [],
   "source": [
    "results.to_csv('results_data/results_lm_10_foldCV.csv', index=False)"
   ]
  }
 ],
 "metadata": {
  "kernelspec": {
   "display_name": "Python 3",
   "language": "python",
   "name": "python3"
  },
  "language_info": {
   "codemirror_mode": {
    "name": "ipython",
    "version": 3
   },
   "file_extension": ".py",
   "mimetype": "text/x-python",
   "name": "python",
   "nbconvert_exporter": "python",
   "pygments_lexer": "ipython3",
   "version": "3.6.7"
  }
 },
 "nbformat": 4,
 "nbformat_minor": 2
}
