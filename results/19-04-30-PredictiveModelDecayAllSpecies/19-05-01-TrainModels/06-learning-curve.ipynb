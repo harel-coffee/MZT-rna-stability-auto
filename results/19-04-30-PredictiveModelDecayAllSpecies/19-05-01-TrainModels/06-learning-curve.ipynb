{
 "cells": [
  {
   "cell_type": "markdown",
   "metadata": {},
   "source": [
    "## Learning Curve"
   ]
  },
  {
   "cell_type": "code",
   "execution_count": 27,
   "metadata": {},
   "outputs": [],
   "source": [
    "import numpy as np\n",
    "import pandas as pd\n",
    "from sklearn.pipeline import Pipeline\n",
    "from sklearn.ensemble import GradientBoostingRegressor\n",
    "from sklearn.model_selection import learning_curve, KFold\n",
    "\n",
    "from optimalcodon.projects.rnastability import dataprocessing\n",
    "from optimalcodon.projects.rnastability import dataprocessing\n"
   ]
  },
  {
   "cell_type": "markdown",
   "metadata": {},
   "source": [
    "## 1. Define the estimator object"
   ]
  },
  {
   "cell_type": "code",
   "execution_count": null,
   "metadata": {},
   "outputs": [],
   "source": [
    "# define the estimator object\n",
    "(train_x, train_y), (test_x, test_Y) = dataprocessing.get_data(\"../19-04-30-EDA/results_data\")\n",
    "preprocessing = dataprocessing.general_preprocesing_pipeline(train_x)\n",
    "\n",
    "\n",
    "gbm = GradientBoostingRegressor(\n",
    "        alpha=0.9,\n",
    "        criterion='friedman_mse',\n",
    "        init=None,\n",
    "        learning_rate=0.01,\n",
    "        loss='huber',\n",
    "        max_depth=10,\n",
    "        max_features='log2',\n",
    "        max_leaf_nodes=None,\n",
    "        min_impurity_decrease=0.0,\n",
    "        min_impurity_split=None,\n",
    "        min_samples_leaf=3,\n",
    "        min_samples_split=8,\n",
    "        min_weight_fraction_leaf=0.0,\n",
    "        n_estimators=2000,\n",
    "        n_iter_no_change=None,\n",
    "        presort='auto',\n",
    "        random_state=None,\n",
    "        subsample=1.0,\n",
    "        tol=0.0001,\n",
    "        validation_fraction=0.1,\n",
    "        verbose=0,\n",
    "        warm_start=False)\n",
    "\n",
    "estimator = Pipeline([('pre-processing', preprocessing),\n",
    "                                    ('gbm', gbm)])"
   ]
  },
  {
   "cell_type": "markdown",
   "metadata": {},
   "source": [
    "## 2. Cross Validation Strategy"
   ]
  },
  {
   "cell_type": "code",
   "execution_count": 32,
   "metadata": {},
   "outputs": [],
   "source": [
    "## CROSS VALIDATION STRATEGY\n",
    "## we use the whole data set for this analysis\n",
    "Y = train_y.append(test_Y)\n",
    "X = pd.concat([train_x, test_x])\n",
    "\n",
    "cv = KFold(n_splits=10, shuffle=True, random_state=42)"
   ]
  },
  {
   "cell_type": "markdown",
   "metadata": {},
   "source": [
    "## 3. Learning Curve"
   ]
  },
  {
   "cell_type": "code",
   "execution_count": 33,
   "metadata": {},
   "outputs": [
    {
     "name": "stdout",
     "output_type": "stream",
     "text": [
      "[learning_curve] Training set sizes: [ 6781 13563 20344 27126 33907 40689 47470 54252 61033 67815]\n"
     ]
    },
    {
     "name": "stderr",
     "output_type": "stream",
     "text": [
      "[Parallel(n_jobs=30)]: Using backend LokyBackend with 30 concurrent workers.\n",
      "[Parallel(n_jobs=30)]: Done   2 out of 100 | elapsed:  3.6min remaining: 175.9min\n",
      "[Parallel(n_jobs=30)]: Done  13 out of 100 | elapsed: 12.0min remaining: 80.1min\n",
      "[Parallel(n_jobs=30)]: Done  24 out of 100 | elapsed: 18.9min remaining: 59.7min\n",
      "/home/smedina/anaconda3/lib/python3.6/site-packages/sklearn/externals/joblib/externals/loky/process_executor.py:706: UserWarning: A worker stopped while some jobs were given to the executor. This can be caused by a too short worker timeout or by a memory leak.\n",
      "  \"timeout or by a memory leak.\", UserWarning\n",
      "[Parallel(n_jobs=30)]: Done  35 out of 100 | elapsed: 27.2min remaining: 50.5min\n",
      "[Parallel(n_jobs=30)]: Done  46 out of 100 | elapsed: 35.9min remaining: 42.1min\n",
      "[Parallel(n_jobs=30)]: Done  57 out of 100 | elapsed: 43.7min remaining: 33.0min\n",
      "[Parallel(n_jobs=30)]: Done  68 out of 100 | elapsed: 51.0min remaining: 24.0min\n",
      "[Parallel(n_jobs=30)]: Done  79 out of 100 | elapsed: 58.5min remaining: 15.5min\n",
      "[Parallel(n_jobs=30)]: Done  90 out of 100 | elapsed: 68.8min remaining:  7.6min\n",
      "[Parallel(n_jobs=30)]: Done 100 out of 100 | elapsed: 84.3min finished\n"
     ]
    }
   ],
   "source": [
    "train_sizes, train_scores, test_scores = learning_curve(\n",
    "    estimator=estimator,\n",
    "    cv=cv,\n",
    "    X=X,\n",
    "    y=Y,\n",
    "    train_sizes=np.linspace(0.1, 1.0, 10),\n",
    "    scoring='r2',\n",
    "    n_jobs=30,\n",
    "    verbose=10,\n",
    "    shuffle=True,\n",
    "    random_state=42)"
   ]
  },
  {
   "cell_type": "code",
   "execution_count": 35,
   "metadata": {},
   "outputs": [],
   "source": [
    "train_scores_mean = np.mean(train_scores, axis=1)\n",
    "train_scores_std = np.std(train_scores, axis=1)\n",
    "test_scores_mean = np.mean(test_scores, axis=1)\n",
    "test_scores_std = np.std(test_scores, axis=1)"
   ]
  },
  {
   "cell_type": "code",
   "execution_count": 44,
   "metadata": {},
   "outputs": [],
   "source": [
    "pd.DataFrame({\n",
    "    'train_sizes': train_sizes,\n",
    "    'train_scores_mean': train_scores_mean,\n",
    "    'train_scores_std': train_scores_std,\n",
    "    'test_scores_mean': test_scores_mean,\n",
    "    'test_scores_std': test_scores_std\n",
    "}).to_csv(\"results_data/learning_curve.csv\", index=False)"
   ]
  }
 ],
 "metadata": {
  "kernelspec": {
   "display_name": "Python 3",
   "language": "python",
   "name": "python3"
  },
  "language_info": {
   "codemirror_mode": {
    "name": "ipython",
    "version": 3
   },
   "file_extension": ".py",
   "mimetype": "text/x-python",
   "name": "python",
   "nbconvert_exporter": "python",
   "pygments_lexer": "ipython3",
   "version": "3.6.7"
  }
 },
 "nbformat": 4,
 "nbformat_minor": 2
}
